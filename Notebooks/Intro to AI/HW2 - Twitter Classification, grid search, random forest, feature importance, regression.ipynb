{
 "cells": [
  {
   "cell_type": "markdown",
   "metadata": {
    "collapsed": true,
    "pycharm": {
     "name": "#%% md\n"
    }
   },
   "source": [
    "# 95-891 Homework 2\n",
    "Blaine Perry"
   ]
  },
  {
   "cell_type": "markdown",
   "source": [
    "### Import the necessary packages"
   ],
   "metadata": {
    "collapsed": false
   }
  },
  {
   "cell_type": "code",
   "execution_count": 2,
   "outputs": [],
   "source": [
    "import pandas as pd\n",
    "from matplotlib import pyplot as plt\n",
    "import numpy as np"
   ],
   "metadata": {
    "collapsed": false,
    "pycharm": {
     "name": "#%%\n"
    }
   }
  },
  {
   "cell_type": "markdown",
   "source": [
    "#  1: Read the data into a pandas dataframe and perform general data cleaning"
   ],
   "metadata": {
    "collapsed": false
   }
  },
  {
   "cell_type": "code",
   "execution_count": 3,
   "outputs": [
    {
     "data": {
      "text/plain": "              Tweet ID                          Username  #Followers  \\\n0  1178791787386814465  35234fe4a19cc1a3336095fb3780bcc1         619   \n1  1178791985106153472  ea4592f39636d87af8fb4b17b7e2e4c0       36365   \n2  1178793230223183872  bf05d1888dd974fa4a8679c25e2ead03        5018   \n3  1178795172206919680  eb8a99bca8945eab1d006750e9b75518        2219   \n4  1178798309491822592  00695cf79d60e86a5d0f872f4358337a        9009   \n\n   #Friends  #Retweets  #Favorites  Positive Sentiment  Negative Sentiment  \\\n0       770          0           0                   2                  -1   \n1     19344         13          17                   1                  -4   \n2      1933          0           0                   2                  -1   \n3       971          0           0                   2                  -1   \n4      4943         26          89                   2                  -1   \n\n   hour  num_mentions  num_hashtags  \n0    22             0             0  \n1    22             0             0  \n2    22             0             0  \n3    22             0             0  \n4    22             0             1  ",
      "text/html": "<div>\n<style scoped>\n    .dataframe tbody tr th:only-of-type {\n        vertical-align: middle;\n    }\n\n    .dataframe tbody tr th {\n        vertical-align: top;\n    }\n\n    .dataframe thead th {\n        text-align: right;\n    }\n</style>\n<table border=\"1\" class=\"dataframe\">\n  <thead>\n    <tr style=\"text-align: right;\">\n      <th></th>\n      <th>Tweet ID</th>\n      <th>Username</th>\n      <th>#Followers</th>\n      <th>#Friends</th>\n      <th>#Retweets</th>\n      <th>#Favorites</th>\n      <th>Positive Sentiment</th>\n      <th>Negative Sentiment</th>\n      <th>hour</th>\n      <th>num_mentions</th>\n      <th>num_hashtags</th>\n    </tr>\n  </thead>\n  <tbody>\n    <tr>\n      <th>0</th>\n      <td>1178791787386814465</td>\n      <td>35234fe4a19cc1a3336095fb3780bcc1</td>\n      <td>619</td>\n      <td>770</td>\n      <td>0</td>\n      <td>0</td>\n      <td>2</td>\n      <td>-1</td>\n      <td>22</td>\n      <td>0</td>\n      <td>0</td>\n    </tr>\n    <tr>\n      <th>1</th>\n      <td>1178791985106153472</td>\n      <td>ea4592f39636d87af8fb4b17b7e2e4c0</td>\n      <td>36365</td>\n      <td>19344</td>\n      <td>13</td>\n      <td>17</td>\n      <td>1</td>\n      <td>-4</td>\n      <td>22</td>\n      <td>0</td>\n      <td>0</td>\n    </tr>\n    <tr>\n      <th>2</th>\n      <td>1178793230223183872</td>\n      <td>bf05d1888dd974fa4a8679c25e2ead03</td>\n      <td>5018</td>\n      <td>1933</td>\n      <td>0</td>\n      <td>0</td>\n      <td>2</td>\n      <td>-1</td>\n      <td>22</td>\n      <td>0</td>\n      <td>0</td>\n    </tr>\n    <tr>\n      <th>3</th>\n      <td>1178795172206919680</td>\n      <td>eb8a99bca8945eab1d006750e9b75518</td>\n      <td>2219</td>\n      <td>971</td>\n      <td>0</td>\n      <td>0</td>\n      <td>2</td>\n      <td>-1</td>\n      <td>22</td>\n      <td>0</td>\n      <td>0</td>\n    </tr>\n    <tr>\n      <th>4</th>\n      <td>1178798309491822592</td>\n      <td>00695cf79d60e86a5d0f872f4358337a</td>\n      <td>9009</td>\n      <td>4943</td>\n      <td>26</td>\n      <td>89</td>\n      <td>2</td>\n      <td>-1</td>\n      <td>22</td>\n      <td>0</td>\n      <td>1</td>\n    </tr>\n  </tbody>\n</table>\n</div>"
     },
     "execution_count": 3,
     "metadata": {},
     "output_type": "execute_result"
    }
   ],
   "source": [
    "# Read in the tweet dataa\n",
    "df = pd.read_csv(\"hw2.csv\")\n",
    "\n",
    "# Split the sentiment out into separate columns\n",
    "df[['Positive Sentiment', 'Negative Sentiment']] = df['Sentiment'].str.split(' ', expand=True)\n",
    "\n",
    "#convert the datatypes appropriately\n",
    "df['Positive Sentiment'] = pd.to_numeric(df['Positive Sentiment'])\n",
    "df['Negative Sentiment'] = pd.to_numeric(df['Negative Sentiment'])\n",
    "df['Timestamp'] = pd.to_datetime(df['Timestamp'])  #TODO: check and see if this is local or GMT\n",
    "df['hour'] = pd.to_numeric(df['Timestamp'].dt.hour)\n",
    "df['#Retweets'] = pd.to_numeric(df['#Retweets'])\n",
    "df['#Favorites'] = pd.to_numeric(df['#Favorites'])\n",
    "df['#Friends'] = pd.to_numeric(df['#Friends'])\n",
    "df['#Followers'] = pd.to_numeric(df['#Followers'])\n",
    "\n",
    "# create a helper function to count the number of mentions and hashtags in a column\n",
    "def count_instances(x):\n",
    "    if str(x)==\"null;\":\n",
    "        return 0\n",
    "    else:\n",
    "        return len(str(x).split(\" \"))\n",
    "\n",
    "df['num_mentions']=pd.to_numeric(df[\"Mentions\"].apply(count_instances))\n",
    "df['num_hashtags'] = pd.to_numeric(df['Hashtags'].apply(count_instances))\n",
    "\n",
    "#drop unnecessary columns\n",
    "df.drop(['URLs', 'Timestamp', 'Entities', 'Sentiment', 'Mentions', 'Hashtags'], axis=1, inplace=True)\n",
    "\n",
    "# Confirm there is no missing data\n",
    "assert(df.isna().any(axis = 1).sum() == 0)\n",
    "\n",
    "df.head()"
   ],
   "metadata": {
    "collapsed": false,
    "pycharm": {
     "name": "#%%\n"
    }
   }
  },
  {
   "cell_type": "markdown",
   "source": [
    "# 2: EDA"
   ],
   "metadata": {
    "collapsed": false
   }
  },
  {
   "cell_type": "markdown",
   "source": [
    "## a) Follower, Friend, and Favorites Histograms"
   ],
   "metadata": {
    "collapsed": false
   }
  },
  {
   "cell_type": "code",
   "execution_count": 4,
   "outputs": [
    {
     "data": {
      "text/plain": "Text(0.5, 1.0, 'Follower Histogram')"
     },
     "execution_count": 4,
     "metadata": {},
     "output_type": "execute_result"
    },
    {
     "data": {
      "text/plain": "<Figure size 432x288 with 1 Axes>",
      "image/png": "[encoded data removed]"
     },
     "metadata": {
      "needs_background": "light"
     },
     "output_type": "display_data"
    }
   ],
   "source": [
    "plt.hist(df['#Followers'].value_counts().apply(np.log10),bins=10)\n",
    "title = 'Follower Histogram'\n",
    "plt.title(title)"
   ],
   "metadata": {
    "collapsed": false,
    "pycharm": {
     "name": "#%%\n"
    }
   }
  },
  {
   "cell_type": "markdown",
   "source": [],
   "metadata": {
    "collapsed": false,
    "pycharm": {
     "name": "#%% md\n"
    }
   }
  },
  {
   "cell_type": "code",
   "execution_count": 5,
   "outputs": [
    {
     "data": {
      "text/plain": "Text(0.5, 1.0, 'Friends Histogram')"
     },
     "execution_count": 5,
     "metadata": {},
     "output_type": "execute_result"
    },
    {
     "data": {
      "text/plain": "<Figure size 432x288 with 1 Axes>",
      "image/png": "[encoded data removed]"
     },
     "metadata": {
      "needs_background": "light"
     },
     "output_type": "display_data"
    }
   ],
   "source": [
    "plt.hist(df['#Friends'].value_counts().apply(np.log10),bins=10)\n",
    "title = 'Friends Histogram'\n",
    "plt.title(title)"
   ],
   "metadata": {
    "collapsed": false,
    "pycharm": {
     "name": "#%%\n"
    }
   }
  },
  {
   "cell_type": "code",
   "execution_count": 6,
   "outputs": [
    {
     "data": {
      "text/plain": "Text(0.5, 1.0, 'Favorites Histogram')"
     },
     "execution_count": 6,
     "metadata": {},
     "output_type": "execute_result"
    },
    {
     "data": {
      "text/plain": "<Figure size 432x288 with 1 Axes>",
      "image/png": "[encoded data removed]"
     },
     "metadata": {
      "needs_background": "light"
     },
     "output_type": "display_data"
    }
   ],
   "source": [
    "plt.hist(df['#Favorites'].value_counts().apply(np.log10),bins=10)\n",
    "title = 'Favorites Histogram'\n",
    "plt.title(title)"
   ],
   "metadata": {
    "collapsed": false,
    "pycharm": {
     "name": "#%%\n"
    }
   }
  },
  {
   "cell_type": "markdown",
   "source": [
    "## b) Correlation Matrix"
   ],
   "metadata": {
    "collapsed": false
   }
  },
  {
   "cell_type": "code",
   "execution_count": 7,
   "outputs": [
    {
     "data": {
      "text/plain": "                    #Retweets  #Followers  #Friends  #Favorites  \\\n#Retweets            1.000000    0.134503  0.026502    0.890328   \n#Followers           0.134503    1.000000  0.011337    0.172158   \n#Friends             0.026502    0.011337  1.000000    0.017877   \n#Favorites           0.890328    0.172158  0.017877    1.000000   \nPositive Sentiment   0.000433   -0.027071 -0.000555    0.002533   \nNegative Sentiment  -0.010565    0.008711 -0.007891   -0.003889   \n\n                    Positive Sentiment  Negative Sentiment  \n#Retweets                     0.000433           -0.010565  \n#Followers                   -0.027071            0.008711  \n#Friends                     -0.000555           -0.007891  \n#Favorites                    0.002533           -0.003889  \nPositive Sentiment            1.000000           -0.039849  \nNegative Sentiment           -0.039849            1.000000  ",
      "text/html": "<div>\n<style scoped>\n    .dataframe tbody tr th:only-of-type {\n        vertical-align: middle;\n    }\n\n    .dataframe tbody tr th {\n        vertical-align: top;\n    }\n\n    .dataframe thead th {\n        text-align: right;\n    }\n</style>\n<table border=\"1\" class=\"dataframe\">\n  <thead>\n    <tr style=\"text-align: right;\">\n      <th></th>\n      <th>#Retweets</th>\n      <th>#Followers</th>\n      <th>#Friends</th>\n      <th>#Favorites</th>\n      <th>Positive Sentiment</th>\n      <th>Negative Sentiment</th>\n    </tr>\n  </thead>\n  <tbody>\n    <tr>\n      <th>#Retweets</th>\n      <td>1.000000</td>\n      <td>0.134503</td>\n      <td>0.026502</td>\n      <td>0.890328</td>\n      <td>0.000433</td>\n      <td>-0.010565</td>\n    </tr>\n    <tr>\n      <th>#Followers</th>\n      <td>0.134503</td>\n      <td>1.000000</td>\n      <td>0.011337</td>\n      <td>0.172158</td>\n      <td>-0.027071</td>\n      <td>0.008711</td>\n    </tr>\n    <tr>\n      <th>#Friends</th>\n      <td>0.026502</td>\n      <td>0.011337</td>\n      <td>1.000000</td>\n      <td>0.017877</td>\n      <td>-0.000555</td>\n      <td>-0.007891</td>\n    </tr>\n    <tr>\n      <th>#Favorites</th>\n      <td>0.890328</td>\n      <td>0.172158</td>\n      <td>0.017877</td>\n      <td>1.000000</td>\n      <td>0.002533</td>\n      <td>-0.003889</td>\n    </tr>\n    <tr>\n      <th>Positive Sentiment</th>\n      <td>0.000433</td>\n      <td>-0.027071</td>\n      <td>-0.000555</td>\n      <td>0.002533</td>\n      <td>1.000000</td>\n      <td>-0.039849</td>\n    </tr>\n    <tr>\n      <th>Negative Sentiment</th>\n      <td>-0.010565</td>\n      <td>0.008711</td>\n      <td>-0.007891</td>\n      <td>-0.003889</td>\n      <td>-0.039849</td>\n      <td>1.000000</td>\n    </tr>\n  </tbody>\n</table>\n</div>"
     },
     "execution_count": 7,
     "metadata": {},
     "output_type": "execute_result"
    }
   ],
   "source": [
    "pd.DataFrame(df, columns=['#Retweets', '#Followers', '#Friends', '#Favorites', 'Positive Sentiment', 'Negative Sentiment']).corr()"
   ],
   "metadata": {
    "collapsed": false,
    "pycharm": {
     "name": "#%%\n"
    }
   }
  },
  {
   "cell_type": "markdown",
   "source": [
    "# c) What do these plots and correlation matrix signify?\n",
    "\n",
    "The plots show that the data are skewed.  That is, most data points have 0 friends, followers, or favorites.\n",
    "the correlation plot shows how the data are related, for example, the correlation between #Retweets and #Favorites 0.89.  This indicates that #Retweets is highly correlated with #Favorites.  The more retweets, the more favorites and vice versa.\n",
    "\n",
    "# d) What do the signs before the correlation magnitudes signify?\n",
    "\n",
    "They signify in which way the data are correlated.  A positive indicates that as one increases the other increases, a negative indicates that as one increases the other decreases.\n",
    "\n",
    "# e) If a feature shows 0 correlation to #Retweets, does that mean it could not contribute to prediction?\n",
    "\n",
    "This is only partially true.  A feature with 0 correlation means that the status of this feature linear relationship with the other.  These variables could be involved in a two way interaction (ex: the combination of a and b is correlated with c, when a is uncorrelated with c).  The feature could also have a nonlinear relationship which would not be captured with this method."
   ],
   "metadata": {
    "collapsed": false
   }
  },
  {
   "cell_type": "markdown",
   "source": [
    "# 3: Split the data into train and test sets"
   ],
   "metadata": {
    "collapsed": false
   }
  },
  {
   "cell_type": "code",
   "execution_count": 8,
   "outputs": [],
   "source": [
    "train_data = df[:80000]\n",
    "test_data = df[80000:]\n",
    "\n",
    "#train inputs and targets\n",
    "x_train = train_data[['#Followers', '#Friends', '#Favorites', 'Positive Sentiment', 'Negative Sentiment', 'hour', 'num_mentions', 'num_hashtags']]\n",
    "y_train = train_data['#Retweets']\n",
    "\n",
    "#test inputs and targets\n",
    "x_test = test_data[['#Followers', '#Friends', '#Favorites', 'Positive Sentiment', 'Negative Sentiment', 'hour', 'num_mentions', 'num_hashtags']]\n",
    "y_test = test_data['#Retweets']\n",
    "\n",
    "\n",
    "#scale the data just to see if it matters\n",
    "from sklearn import preprocessing\n",
    "scaler = preprocessing.StandardScaler()\n",
    "scaler.fit(x_train)\n",
    "\n",
    "x_train_scale = scaler.transform(x_train)\n",
    "x_test_scale = scaler.transform(x_test)"
   ],
   "metadata": {
    "collapsed": false,
    "pycharm": {
     "name": "#%%\n"
    }
   }
  },
  {
   "cell_type": "markdown",
   "source": [
    "# Create the regressors\n",
    "\n",
    "### Random Forest"
   ],
   "metadata": {
    "collapsed": false
   }
  },
  {
   "cell_type": "code",
   "execution_count": 9,
   "outputs": [],
   "source": [
    "from sklearn.ensemble import RandomForestRegressor\n",
    "from sklearn.model_selection import GridSearchCV\n",
    "\n",
    "# Define a helper function to evaluate performance\n",
    "def evaluate(model, features, labels):\n",
    "    predictions = model.predict(features)\n",
    "    errors = abs(predictions - labels)\n",
    "    print('Mean Absolute Error: {:0.4f} degrees.'.format(np.mean(errors)))\n",
    "\n",
    "# Create the parameter grid\n",
    "param_grid = {\n",
    "    'max_depth': [5, 10, 20],\n",
    "    'max_features': [2, 3],\n",
    "    'min_samples_split': [8, 10, 12],\n",
    "    'n_estimators': [5, 10, 50]\n",
    "}\n",
    "\n",
    "# Create a based model\n",
    "rf = RandomForestRegressor()\n",
    "\n",
    "# Instantiate the grid search model\n",
    "rf_grid_search = GridSearchCV(estimator = rf, param_grid = param_grid,\n",
    "                           scoring = 'neg_mean_absolute_error', cv = 3,\n",
    "                           n_jobs = -1, verbose = 2)"
   ],
   "metadata": {
    "collapsed": false,
    "pycharm": {
     "name": "#%%\n"
    }
   }
  },
  {
   "cell_type": "markdown",
   "source": [
    "# Use grid search to find the best RF regressor"
   ],
   "metadata": {
    "collapsed": false
   }
  },
  {
   "cell_type": "code",
   "execution_count": 10,
   "outputs": [
    {
     "name": "stdout",
     "output_type": "stream",
     "text": [
      "Fitting 3 folds for each of 54 candidates, totalling 162 fits\n"
     ]
    },
    {
     "data": {
      "text/plain": "GridSearchCV(cv=3, estimator=RandomForestRegressor(), n_jobs=-1,\n             param_grid={'max_depth': [5, 10, 20], 'max_features': [2, 3],\n                         'min_samples_split': [8, 10, 12],\n                         'n_estimators': [5, 10, 50]},\n             scoring='neg_mean_absolute_error', verbose=2)"
     },
     "execution_count": 10,
     "metadata": {},
     "output_type": "execute_result"
    }
   ],
   "source": [
    "# Perform grid search on the data\n",
    "rf_grid_search.fit(x_train, y_train)"
   ],
   "metadata": {
    "collapsed": false,
    "pycharm": {
     "name": "#%%\n"
    }
   }
  },
  {
   "cell_type": "markdown",
   "source": [
    "# Evaluate the best RF"
   ],
   "metadata": {
    "collapsed": false,
    "pycharm": {
     "name": "#%% md\n"
    }
   }
  },
  {
   "cell_type": "code",
   "execution_count": 11,
   "outputs": [
    {
     "name": "stdout",
     "output_type": "stream",
     "text": [
      "Mean Absolute Error: 15.8957 degrees.\n"
     ]
    }
   ],
   "source": [
    "best_rf = rf_grid_search.best_estimator_\n",
    "evaluate(best_rf, x_test, y_test)"
   ],
   "metadata": {
    "collapsed": false,
    "pycharm": {
     "name": "#%%\n"
    }
   }
  },
  {
   "cell_type": "markdown",
   "source": [
    "### Do the same for the scaled data"
   ],
   "metadata": {
    "collapsed": false
   }
  },
  {
   "cell_type": "code",
   "execution_count": 12,
   "outputs": [
    {
     "name": "stdout",
     "output_type": "stream",
     "text": [
      "Fitting 3 folds for each of 54 candidates, totalling 162 fits\n",
      "Mean Absolute Error: 29.8786 degrees.\n"
     ]
    }
   ],
   "source": [
    "# Perform grid search on the data\n",
    "rf_grid_search.fit(x_train_scale, y_train)\n",
    "best_rf_scaled = rf_grid_search.best_estimator_\n",
    "evaluate(best_rf, x_test_scale, y_test)\n"
   ],
   "metadata": {
    "collapsed": false,
    "pycharm": {
     "name": "#%%\n"
    }
   }
  },
  {
   "cell_type": "markdown",
   "source": [
    "# View feature importance"
   ],
   "metadata": {
    "collapsed": false
   }
  },
  {
   "cell_type": "code",
   "execution_count": 13,
   "outputs": [
    {
     "name": "stdout",
     "output_type": "stream",
     "text": [
      "Variable: #Favorites           Importance: 0.860\n",
      "Variable: #Followers           Importance: 0.080\n",
      "Variable: #Friends             Importance: 0.030\n",
      "Variable: hour                 Importance: 0.020\n",
      "Variable: Positive Sentiment   Importance: 0.010\n",
      "Variable: Negative Sentiment   Importance: 0.010\n",
      "Variable: num_mentions         Importance: 0.010\n",
      "Variable: num_hashtags         Importance: 0.000\n"
     ]
    }
   ],
   "source": [
    "# Get numerical feature importances\n",
    "importance = list(best_rf.feature_importances_)\n",
    "\n",
    "# List of tuples with variable and importance\n",
    "feature_importance = [(feature, round(importance, 2)) for feature, importance in zip(list(x_train.columns), importance)]\n",
    "\n",
    "# Sort the feature importance\n",
    "feature_importance = sorted(feature_importance, key = lambda x: x[1], reverse = True)\n",
    "\n",
    "[print('Variable: {:20} Importance: {:.3f}'.format(*pair)) for pair in feature_importance];"
   ],
   "metadata": {
    "collapsed": false,
    "pycharm": {
     "name": "#%%\n"
    }
   }
  },
  {
   "cell_type": "markdown",
   "source": [
    "Here we can see that most of the variables are unimportant.  The most important by far is #Favorites."
   ],
   "metadata": {
    "collapsed": false
   }
  },
  {
   "cell_type": "markdown",
   "source": [
    "# Linear Regression"
   ],
   "metadata": {
    "collapsed": false
   }
  },
  {
   "cell_type": "code",
   "execution_count": 14,
   "outputs": [],
   "source": [
    "from sklearn.linear_model import Lasso\n",
    "\n",
    "# Create the parameter grid\n",
    "param_grid = {'alpha':np.logspace(-3, 3, 7)}\n",
    "\n",
    "# Create a based model\n",
    "lasso = Lasso()\n",
    "\n",
    "# Instantiate the grid search model\n",
    "lasso_grid_search = GridSearchCV(estimator = lasso, param_grid = param_grid,\n",
    "                           scoring = 'neg_mean_absolute_error', cv = 3,\n",
    "                           n_jobs = -1, verbose = 2)"
   ],
   "metadata": {
    "collapsed": false,
    "pycharm": {
     "name": "#%%\n"
    }
   }
  },
  {
   "cell_type": "markdown",
   "source": [
    "# Use grid search to find best regressor"
   ],
   "metadata": {
    "collapsed": false
   }
  },
  {
   "cell_type": "code",
   "execution_count": 15,
   "outputs": [
    {
     "name": "stdout",
     "output_type": "stream",
     "text": [
      "Fitting 3 folds for each of 7 candidates, totalling 21 fits\n"
     ]
    },
    {
     "data": {
      "text/plain": "GridSearchCV(cv=3, estimator=Lasso(), n_jobs=-1,\n             param_grid={'alpha': array([1.e-03, 1.e-02, 1.e-01, 1.e+00, 1.e+01, 1.e+02, 1.e+03])},\n             scoring='neg_mean_absolute_error', verbose=2)"
     },
     "execution_count": 15,
     "metadata": {},
     "output_type": "execute_result"
    }
   ],
   "source": [
    "# Perform grid search on the data\n",
    "lasso_grid_search.fit(x_train, y_train)"
   ],
   "metadata": {
    "collapsed": false,
    "pycharm": {
     "name": "#%%\n"
    }
   }
  },
  {
   "cell_type": "markdown",
   "source": [
    "# Evaluate the best regressor"
   ],
   "metadata": {
    "collapsed": false
   }
  },
  {
   "cell_type": "code",
   "execution_count": 16,
   "outputs": [
    {
     "name": "stdout",
     "output_type": "stream",
     "text": [
      "Mean Absolute Error: 17.3089 degrees.\n"
     ]
    }
   ],
   "source": [
    "best_lasso = lasso_grid_search.best_estimator_\n",
    "evaluate(best_lasso, x_test, y_test)"
   ],
   "metadata": {
    "collapsed": false,
    "pycharm": {
     "name": "#%%\n"
    }
   }
  },
  {
   "cell_type": "markdown",
   "source": [
    "### Do the same for the scaled data"
   ],
   "metadata": {
    "collapsed": false
   }
  },
  {
   "cell_type": "code",
   "execution_count": 17,
   "outputs": [
    {
     "name": "stdout",
     "output_type": "stream",
     "text": [
      "Fitting 3 folds for each of 7 candidates, totalling 21 fits\n",
      "Mean Absolute Error: 30.4031 degrees.\n"
     ]
    }
   ],
   "source": [
    "lasso_grid_search.fit(x_train_scale, y_train)\n",
    "best_lasso_scaled = lasso_grid_search.best_estimator_\n",
    "evaluate(best_lasso, x_test_scale, y_test)"
   ],
   "metadata": {
    "collapsed": false,
    "pycharm": {
     "name": "#%%\n"
    }
   }
  },
  {
   "cell_type": "markdown",
   "source": [
    "# 6: Compare the two regression methods, what evaluation metrics are appropriate?\n",
    "\n",
    "I chose to evaluate the models using Mean Absolute Error, although mean squared error would also be appropriate.  With this, I found that the unscaled RF was the best, with a MAE of 15.89."
   ],
   "metadata": {
    "collapsed": false,
    "pycharm": {
     "name": "#%% md\n"
    }
   }
  },
  {
   "cell_type": "code",
   "execution_count": 17,
   "outputs": [],
   "source": [],
   "metadata": {
    "collapsed": false,
    "pycharm": {
     "name": "#%%\n"
    }
   }
  }
 ],
 "metadata": {
  "kernelspec": {
   "display_name": "Python 3",
   "language": "python",
   "name": "python3"
  },
  "language_info": {
   "codemirror_mode": {
    "name": "ipython",
    "version": 2
   },
   "file_extension": ".py",
   "mimetype": "text/x-python",
   "name": "python",
   "nbconvert_exporter": "python",
   "pygments_lexer": "ipython2",
   "version": "2.7.6"
  }
 },
 "nbformat": 4,
 "nbformat_minor": 0
}