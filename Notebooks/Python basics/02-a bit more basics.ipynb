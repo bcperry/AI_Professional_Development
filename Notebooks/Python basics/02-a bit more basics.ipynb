{
 "cells": [
  {
   "cell_type": "markdown",
   "metadata": {},
   "source": [
    "## Introduction\n",
    "\n",
    "Today we will cover some basic aspects of programming in python. Then we'll get to the usage of common libraries (modules) such as numpy, pandas, matplotlib and sklearn that would be useful throughout the course and beyond for machine learning/data science.\n",
    "\n"
   ]
  },
  {
   "cell_type": "markdown",
   "metadata": {},
   "source": [
    "### Installation \n",
    "\n",
    "There are several ways in which we could install python environment. Using Anaconda is the recommended way, because it comes with all the necesaary libraries bundled. This recitation uses Python 3.7.4, however you are free to choose your versions. Our recommendation is to use Python 3.x.x >= 3.5\n",
    "\n"
   ]
  },
  {
   "cell_type": "code",
   "execution_count": 1,
   "metadata": {},
   "outputs": [
    {
     "name": "stdout",
     "output_type": "stream",
     "text": [
      "3.9.13\n"
     ]
    }
   ],
   "source": [
    "import platform\n",
    "print(platform.python_version())"
   ]
  },
  {
   "cell_type": "markdown",
   "metadata": {},
   "source": [
    "#### Python basics\n"
   ]
  },
  {
   "cell_type": "markdown",
   "metadata": {},
   "source": [
    "##### Indentation\n",
    "\n",
    "Python uses indentation to indicate a block of code.\n",
    "Other programming language like Java, C, C++ use {} to define the block, and use indentation for readability"
   ]
  },
  {
   "cell_type": "code",
   "execution_count": 2,
   "metadata": {
    "scrolled": true
   },
   "outputs": [
    {
     "ename": "IndentationError",
     "evalue": "unexpected indent (2203557117.py, line 3)",
     "output_type": "error",
     "traceback": [
      "\u001b[1;36m  Cell \u001b[1;32mIn [2], line 3\u001b[1;36m\u001b[0m\n\u001b[1;33m    print(lst_of_numbers)\u001b[0m\n\u001b[1;37m    ^\u001b[0m\n\u001b[1;31mIndentationError\u001b[0m\u001b[1;31m:\u001b[0m unexpected indent\n"
     ]
    }
   ],
   "source": [
    "# This will give you an error\n",
    "lst_of_numbers = [1, 2, 3, 4]\n",
    " print(lst_of_numbers)"
   ]
  },
  {
   "cell_type": "code",
   "execution_count": 3,
   "metadata": {},
   "outputs": [
    {
     "name": "stdout",
     "output_type": "stream",
     "text": [
      "[1, 2, 3, 4]\n"
     ]
    }
   ],
   "source": [
    "lst_of_numbers = [1, 2, 3, 4]\n",
    "print(lst_of_numbers)"
   ]
  },
  {
   "cell_type": "markdown",
   "metadata": {},
   "source": [
    "Default indentation in Jupyter Notebook is 4 spaces.\n",
    "\n",
    "Python doesn't have requirment for the number of spaces. You can make choice, but most people use 4 spaces."
   ]
  },
  {
   "cell_type": "code",
   "execution_count": 4,
   "metadata": {},
   "outputs": [
    {
     "name": "stdout",
     "output_type": "stream",
     "text": [
      "1 is odd\n",
      "2 is even\n",
      "3 is odd\n",
      "4 is even\n",
      "All done.\n"
     ]
    }
   ],
   "source": [
    "for num in lst_of_numbers:\n",
    "    if (num % 2 == 0):\n",
    "        print(\"{} is even\".format(num))\n",
    "    else:\n",
    "        print(\"{} is odd\".format(num))\n",
    "print (\"All done.\")"
   ]
  },
  {
   "cell_type": "markdown",
   "metadata": {},
   "source": [
    "##### List, tuple, dictionary"
   ]
  },
  {
   "cell_type": "code",
   "execution_count": 5,
   "metadata": {},
   "outputs": [
    {
     "data": {
      "text/plain": [
       "[1, 2, 3, 4]"
      ]
     },
     "execution_count": 5,
     "metadata": {},
     "output_type": "execute_result"
    }
   ],
   "source": [
    "# Create a list through [] or list()\n",
    "lst = [1, 2, 3, 4] \n",
    "lst = list([1,2,3,4])\n",
    "lst"
   ]
  },
  {
   "cell_type": "markdown",
   "metadata": {},
   "source": [
    "List is mutable, you can update the values."
   ]
  },
  {
   "cell_type": "code",
   "execution_count": 6,
   "metadata": {},
   "outputs": [
    {
     "name": "stdout",
     "output_type": "stream",
     "text": [
      "Updated contents of list are [10, 2, 3, 4]\n"
     ]
    }
   ],
   "source": [
    "lst[0] = 10 \n",
    "print('Updated contents of list are {}'.format(lst))"
   ]
  },
  {
   "cell_type": "code",
   "execution_count": 7,
   "metadata": {},
   "outputs": [
    {
     "data": {
      "text/plain": [
       "(1, 2, 3, 4)"
      ]
     },
     "execution_count": 7,
     "metadata": {},
     "output_type": "execute_result"
    }
   ],
   "source": [
    "# Create a tuple through () or tuple()\n",
    "tup = (1, 2, 3, 4) \n",
    "tup = tuple((1,2,3,4))\n",
    "tup"
   ]
  },
  {
   "cell_type": "markdown",
   "metadata": {},
   "source": [
    "Tuple is immutable"
   ]
  },
  {
   "cell_type": "code",
   "execution_count": 8,
   "metadata": {},
   "outputs": [
    {
     "ename": "TypeError",
     "evalue": "'tuple' object does not support item assignment",
     "output_type": "error",
     "traceback": [
      "\u001b[1;31m---------------------------------------------------------------------------\u001b[0m",
      "\u001b[1;31mTypeError\u001b[0m                                 Traceback (most recent call last)",
      "Cell \u001b[1;32mIn [8], line 1\u001b[0m\n\u001b[1;32m----> 1\u001b[0m \u001b[43mtup\u001b[49m\u001b[43m[\u001b[49m\u001b[38;5;241;43m0\u001b[39;49m\u001b[43m]\u001b[49m \u001b[38;5;241m=\u001b[39m \u001b[38;5;241m10\u001b[39m \u001b[38;5;66;03m# This will throw exception\u001b[39;00m\n",
      "\u001b[1;31mTypeError\u001b[0m: 'tuple' object does not support item assignment"
     ]
    }
   ],
   "source": [
    "tup[0] = 10 # This will throw exception"
   ]
  },
  {
   "cell_type": "code",
   "execution_count": 14,
   "metadata": {},
   "outputs": [
    {
     "data": {
      "text/plain": [
       "{'flights': 12, 'direction': 'NW'}"
      ]
     },
     "execution_count": 14,
     "metadata": {},
     "output_type": "execute_result"
    }
   ],
   "source": [
    "# Dictionaries: An important data-structure which stores (key,value) pairs\n",
    "test_event = {}\n",
    "test_event['flights'] = 12\n",
    "test_event['direction'] = 'NW'\n",
    "\n",
    "test_event"
   ]
  },
  {
   "cell_type": "markdown",
   "metadata": {},
   "source": [
    "Dictionary is mutable"
   ]
  },
  {
   "cell_type": "code",
   "execution_count": 15,
   "metadata": {},
   "outputs": [
    {
     "data": {
      "text/plain": [
       "{'flights': 12, 'direction': 'NW', 'aircraft': 'AH-64D'}"
      ]
     },
     "execution_count": 15,
     "metadata": {},
     "output_type": "execute_result"
    }
   ],
   "source": [
    "test_event['aircraft'] = \"AH-64D\"\n",
    "test_event"
   ]
  },
  {
   "cell_type": "code",
   "execution_count": 16,
   "metadata": {},
   "outputs": [
    {
     "name": "stdout",
     "output_type": "stream",
     "text": [
      "('flights', 12)\n",
      "('direction', 'NW')\n",
      "('aircraft', 'AH-64D')\n"
     ]
    }
   ],
   "source": [
    "# get items from dictionary\n",
    "for item in test_event.items():\n",
    "    print(item)"
   ]
  },
  {
   "cell_type": "code",
   "execution_count": 17,
   "metadata": {},
   "outputs": [
    {
     "name": "stdout",
     "output_type": "stream",
     "text": [
      "flights\n",
      "direction\n",
      "aircraft\n"
     ]
    }
   ],
   "source": [
    "# get keys from dictionary\n",
    "for key in test_event.keys():\n",
    "    print(key)"
   ]
  },
  {
   "cell_type": "code",
   "execution_count": 18,
   "metadata": {},
   "outputs": [
    {
     "name": "stdout",
     "output_type": "stream",
     "text": [
      "12\n",
      "NW\n",
      "AH-64D\n"
     ]
    }
   ],
   "source": [
    "# get values from dictionary\n",
    "for vale in test_event.values():\n",
    "    print(vale)"
   ]
  },
  {
   "cell_type": "code",
   "execution_count": 19,
   "metadata": {},
   "outputs": [
    {
     "name": "stdout",
     "output_type": "stream",
     "text": [
      "<class 'list'>\n",
      "4\n",
      "<class 'tuple'>\n",
      "4\n",
      "<class 'dict'>\n",
      "3\n"
     ]
    }
   ],
   "source": [
    "# check type and len \n",
    "print(type(lst))\n",
    "print(len(lst))\n",
    "print(type(tup))\n",
    "print(len(tup))\n",
    "print(type(test_event))\n",
    "print(len(test_event))"
   ]
  },
  {
   "cell_type": "markdown",
   "metadata": {},
   "source": [
    "#### Function and class"
   ]
  },
  {
   "cell_type": "code",
   "execution_count": 20,
   "metadata": {
    "scrolled": true
   },
   "outputs": [],
   "source": [
    "# define a function\n",
    "def pretty_print(key, val):\n",
    "    print('Key:{}, Val:{}'.format(key, val))"
   ]
  },
  {
   "cell_type": "code",
   "execution_count": 24,
   "metadata": {},
   "outputs": [
    {
     "name": "stdout",
     "output_type": "stream",
     "text": [
      "Key:flight, Val:24\n"
     ]
    }
   ],
   "source": [
    "# call the function\n",
    "pretty_print('flight', 24)"
   ]
  },
  {
   "cell_type": "code",
   "execution_count": 25,
   "metadata": {},
   "outputs": [],
   "source": [
    "#### Classes in python: Useful for defining your own estimators, model configs and so on.\n",
    "class MyClass:\n",
    "    def __init__(self, n):\n",
    "        self.n = n  # by default public member\n",
    "        self.__private_n = n + n # private members are prepended by '__'\n",
    "    def get_private(self):\n",
    "        return self.__private_n\n",
    "    def get_double(self):\n",
    "        return self.n*2"
   ]
  },
  {
   "cell_type": "code",
   "execution_count": 26,
   "metadata": {},
   "outputs": [
    {
     "data": {
      "text/plain": [
       "2"
      ]
     },
     "execution_count": 26,
     "metadata": {},
     "output_type": "execute_result"
    }
   ],
   "source": [
    "#### Instantiate the above defined class.\n",
    "a = MyClass(2)\n",
    "a.n"
   ]
  },
  {
   "cell_type": "code",
   "execution_count": 27,
   "metadata": {},
   "outputs": [
    {
     "data": {
      "text/plain": [
       "4"
      ]
     },
     "execution_count": 27,
     "metadata": {},
     "output_type": "execute_result"
    }
   ],
   "source": [
    "a.get_double()"
   ]
  },
  {
   "cell_type": "code",
   "execution_count": null,
   "metadata": {},
   "outputs": [],
   "source": []
  }
 ],
 "metadata": {
  "kernelspec": {
   "display_name": "Python 3 (ipykernel)",
   "language": "python",
   "name": "python3"
  },
  "language_info": {
   "codemirror_mode": {
    "name": "ipython",
    "version": 3
   },
   "file_extension": ".py",
   "mimetype": "text/x-python",
   "name": "python",
   "nbconvert_exporter": "python",
   "pygments_lexer": "ipython3",
   "version": "3.9.13"
  },
  "vscode": {
   "interpreter": {
    "hash": "e64442ea405c4b87b84cf1eda4368213923511a916f69331a434df9ec01fc160"
   }
  }
 },
 "nbformat": 4,
 "nbformat_minor": 4
}
