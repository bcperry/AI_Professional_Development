{
 "cells": [
  {
   "cell_type": "markdown",
   "metadata": {},
   "source": [
    "## Overview of Jupyter Notebook\n",
    "\n",
    "Jupyter Notebook is a browser-based coding environment, used extensively for prototyping and interactive development in data science applications.  Jupyter Notebook is an evolution of an older project called the IPython Noteboook (this is the origin of the notebook file extension \".ipynb\"), and while (as the name suggests) Jupyter Notebook supports languages other than Python, at the current time Python is by far the most common language for these notebook.  \n",
    "\n",
    "The central unit within a Jupyter Notebook are \"cells\".  These cells can either contain code or Markdown (a simple formatting language, which can also include things like LaTeX equations).  The dropdown menu at the top of the screen indicates the type of the current cell (Markdown, Code, etc.).  \n",
    "\n",
    "Code cells can be executed by pressing the <i class=\"fa fa-step-forward\"></i> button at the top of the notebook, or more commonly via the commands Shift-Enter (execute and move to the next cell) or Control-Enter (execute and stay on that cell).  \n",
    "\n",
    "All Python code is executed in a single running Python environment in the Jupyter notebook.  Variables are shared across all cells, and the code is executed in the order in which the cells are run (not necessarily sequential in the notebook), which can get your notebook into rather confusing states if you don't always execute cells in order.\n",
    "\n",
    "Let's look at a a few examples."
   ]
  },
  {
   "cell_type": "code",
   "execution_count": 1,
   "metadata": {},
   "outputs": [
    {
     "data": {
      "text/plain": [
       "3"
      ]
     },
     "execution_count": 1,
     "metadata": {},
     "output_type": "execute_result"
    }
   ],
   "source": [
    "1+2"
   ]
  },
  {
   "cell_type": "code",
   "execution_count": 2,
   "metadata": {},
   "outputs": [],
   "source": [
    "a = 1.0\n",
    "b = 2.0"
   ]
  },
  {
   "cell_type": "code",
   "execution_count": 3,
   "metadata": {},
   "outputs": [
    {
     "name": "stdout",
     "output_type": "stream",
     "text": [
      "1.0\n"
     ]
    },
    {
     "data": {
      "text/plain": [
       "2.0"
      ]
     },
     "execution_count": 3,
     "metadata": {},
     "output_type": "execute_result"
    }
   ],
   "source": [
    "print(a)\n",
    "b"
   ]
  },
  {
   "cell_type": "code",
   "execution_count": null,
   "metadata": {},
   "outputs": [],
   "source": [
    "for i in range(5):\n",
    "    print(i)"
   ]
  },
  {
   "cell_type": "markdown",
   "metadata": {},
   "source": [
    "Any `print` statements will print to the output section for the cell, and the output will also contain the string representation of the object returned by the last line in the cell.  Thus, in the above setting where the variable `b` appears on the last line of the cell, its content is printed at the end of the cell output, following any previous print statements that happen before.\n",
    "\n",
    "Any Python code will be valid in these cells, so we can import external libraries, defines classes, and functions, etc."
   ]
  },
  {
   "cell_type": "code",
   "execution_count": null,
   "metadata": {},
   "outputs": [],
   "source": [
    "import requests"
   ]
  },
  {
   "cell_type": "code",
   "execution_count": null,
   "metadata": {},
   "outputs": [],
   "source": [
    "def square(x):\n",
    "    \"\"\"Square the input x\"\"\"\n",
    "    return x*x"
   ]
  },
  {
   "cell_type": "code",
   "execution_count": null,
   "metadata": {},
   "outputs": [],
   "source": [
    "square(4)"
   ]
  },
  {
   "cell_type": "markdown",
   "metadata": {},
   "source": [
    "### Efficient navigation in the notebook\n",
    "\n",
    "Because you'll be writing code in the notebook, it helps to become at least a little bit familiar with the features of the editor, particularly, with some of the keyboard shortcuts.\n",
    "\n",
    "You can look up all the keyboard shortcuts (in addition to adding your own) in the \"Help -> Keyboard Shortcuts\" menu, but some of the more common ones are the following.  First, though, it is important to distinguish between the **\"Edit mode\"** (when directly editing a cell by typing code or text, indicated by a green cell border) and **\"Command mode\"** (navigating over cells, indicated by a grey cell border with a blue left margin).  You can switch between these using \"ESC\" or \"Ctrl-M\" (switch to command mode) and \"Enter\" (switch to edit more).\n",
    "\n",
    "\n",
    "Common keyboard shortcuts in command mode:\n",
    "- \"x\": delete a cell (though be careful, because you can only undo the deletion of one cell)\n",
    "- \"a\": insert new cell above\n",
    "- \"b\": insert new cell below\n",
    "- \"m\": convert cell to Markdown\n",
    "- \"y\": convert cell to code\n",
    "- Up/down: navigate up and down over cells\n",
    "- Shift-Enter, Ctrl-Enter: execute cell (also works in edit mode)\n",
    "\n",
    "Common shortcuts in edit mode:\n",
    "- Ctrl-up/Ctrl-down: move to start/end of cell\n",
    "- Tab: indent selected area (when text is selected) or autocomplete (when editing in the middle of a line)\n",
    "- Shift-Tab: unindent selected area (when text is selected), get function help (when following a function name)\n",
    "- Command-/: toggle comment/uncommand selected region\n",
    "\n",
    "The best way to familiarize yourself with these commands is to try to use the notebook without using the mouse, which will get you familiar enough with the common commands to be fairly productive in the Notebook editing environment."
   ]
  },
  {
   "cell_type": "markdown",
   "metadata": {},
   "source": [
    "### Getting help\n",
    "\n",
    "This was touched upon in the previous list of commands, but is important enough to warrant further discussion.  One of the nicer elements of the notebook editor is its built-in support for code autocompletion and function lookup.  After writing some portion of code, you can press the \"tab\" key to autocomplete: if there is only one viable completion of the word you are currently typing, it will simply complete the word.  If there are multiple viable predictions, then it will open a popup menu where you can view all possible completions.  The later is useful for quickly browsing through all functions or variables in a library/object.\n",
    "\n",
    "The second useful command is the inline help popup.  After typing a function name, you can get help for that function by pressing \"Shift-Tab\".  This will bring up a popup with a brief description of the function.  If you want additional help, it may be available for some functions by clicking the <i class=\"fa fa-chevron-up\"></i> button in the top right of the help popup."
   ]
  },
  {
   "cell_type": "markdown",
   "metadata": {},
   "source": [
    "### Cell magics\n",
    "\n",
    "In addition to running Python code, the Jupyter Notebook has some built-in routines for performing operations outside of Python.  These \"cell magics\" are prefaced by `%` (at the beginning of a line ... this is technically called a \"line magic\", but I usually see both cases referred to as cell magics) for single-line magics and `%%` at the beginning of a cell for whole-cell magics.  We won't cover too many of these, but some are very useful and so you should be familiar with the basics.  A much more exhaustive list of cell magics is here: [Built-in cell magics](http://ipython.readthedocs.io/en/stable/interactive/magics.html).\n",
    "\n",
    "- You can use `%%latex` (for the whole cell) to render the input as a block of latex operations.  \n"
   ]
  },
  {
   "cell_type": "code",
   "execution_count": null,
   "metadata": {},
   "outputs": [],
   "source": [
    "%%latex \n",
    "The input to supervised machine learning is $(\\mathbf{x}_i, y_i)$ training pairs. "
   ]
  },
  {
   "cell_type": "markdown",
   "metadata": {},
   "source": [
    "- For vizualizations, after importing a relevant plotting library, the cell magic command `%matplotlib` instructs Jupyter to plot figures in the notebook."
   ]
  },
  {
   "cell_type": "code",
   "execution_count": null,
   "metadata": {},
   "outputs": [],
   "source": [
    "import matplotlib.pyplot as plt\n",
    "%matplotlib notebook"
   ]
  },
  {
   "cell_type": "markdown",
   "metadata": {},
   "source": [
    "Now let's plot a simple sine wave (using `numpy`, which we'll also cover more later, but hopefully this notation is clear)."
   ]
  },
  {
   "cell_type": "code",
   "execution_count": null,
   "metadata": {},
   "outputs": [],
   "source": [
    "import numpy as np\n",
    "x = np.linspace(0,2*np.pi,100)\n",
    "plt.plot(x, np.sin(x))"
   ]
  },
  {
   "cell_type": "markdown",
   "metadata": {},
   "source": [
    "This should open an interactive plot, where you can scroll around the image, zoom in, return to the \"home\" position, and even save the file.  Only one interactive plot can be active in a notebook at a time.  You can also generate \"static\" inline images by replacing the `%matplotlib notebook` magic with `%matplotlib inline`."
   ]
  },
  {
   "cell_type": "code",
   "execution_count": null,
   "metadata": {},
   "outputs": [],
   "source": [
    "%matplotlib inline"
   ]
  },
  {
   "cell_type": "code",
   "execution_count": null,
   "metadata": {},
   "outputs": [],
   "source": [
    "plt.plot(x, np.sin(x))"
   ]
  },
  {
   "cell_type": "markdown",
   "metadata": {},
   "source": [
    "These are very basics of the Notebook. Here is a link to a [Jupyter intro tutorial](https://hub.mybinder.org/user/ipython-ipython-in-depth-jocyshgs/notebooks/binder/Index.ipynb) covering other essentials of Jupyter Notebook that will get you started."
   ]
  },
  {
   "cell_type": "code",
   "execution_count": null,
   "metadata": {},
   "outputs": [],
   "source": []
  }
 ],
 "metadata": {
  "kernelspec": {
   "display_name": "Python 3 (ipykernel)",
   "language": "python",
   "name": "python3"
  },
  "language_info": {
   "codemirror_mode": {
    "name": "ipython",
    "version": 3
   },
   "file_extension": ".py",
   "mimetype": "text/x-python",
   "name": "python",
   "nbconvert_exporter": "python",
   "pygments_lexer": "ipython3",
   "version": "3.9.13"
  }
 },
 "nbformat": 4,
 "nbformat_minor": 4
}
