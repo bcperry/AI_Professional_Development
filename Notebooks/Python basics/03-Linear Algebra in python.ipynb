{
 "cells": [
  {
   "cell_type": "markdown",
   "metadata": {},
   "source": [
    "## Linear Algebra Review + How to do it in Python"
   ]
  },
  {
   "cell_type": "code",
   "execution_count": 5,
   "metadata": {},
   "outputs": [],
   "source": [
    "## This is how we import modules\n",
    "from IPython.display import Math, Latex  # for writing latex code in jupyter"
   ]
  },
  {
   "cell_type": "markdown",
   "metadata": {},
   "source": [
    "#### Vectors and Matrices\n",
    "It is useful to represent many quantities as vectors or matrices. For example you could describe a person as a vector with different features (age, height, education) representing dimensions. Similary, a collection of persons can be represented as stack of vectors, i.e., a matrix."
   ]
  },
  {
   "cell_type": "code",
   "execution_count": 3,
   "metadata": {},
   "outputs": [
    {
     "data": {
      "text/latex": [
       "\n",
       "\\begin{align*}\n",
       "&u = \\begin{bmatrix}x_1\\\\ x_2\\end{bmatrix}, \\quad\\quad v = \\begin{bmatrix}y_1\\\\ y_2\\end{bmatrix}\\\\\n",
       "&\\text{Length:} = \\lvert\\lvert u \\rvert\\rvert = \\sqrt{x_1^2 + x_2^2} \\\\\n",
       "&u + v = \\begin{bmatrix}x_1 + y_1\\\\ x_2 + y_2\\end{bmatrix}\n",
       "\\end{align*}\n"
      ],
      "text/plain": [
       "<IPython.core.display.Latex object>"
      ]
     },
     "execution_count": 3,
     "metadata": {},
     "output_type": "execute_result"
    }
   ],
   "source": [
    "# %%latex\n",
    "Latex(r'''\n",
    "\\begin{align*}\n",
    "&u = \\begin{bmatrix}x_1\\\\ x_2\\end{bmatrix}, \\quad\\quad v = \\begin{bmatrix}y_1\\\\ y_2\\end{bmatrix}\\\\\n",
    "&\\text{Length:} = \\lvert\\lvert u \\rvert\\rvert = \\sqrt{x_1^2 + x_2^2} \\\\\n",
    "&u + v = \\begin{bmatrix}x_1 + y_1\\\\ x_2 + y_2\\end{bmatrix}\n",
    "\\end{align*}\n",
    "''')\n"
   ]
  },
  {
   "cell_type": "code",
   "execution_count": 4,
   "metadata": {},
   "outputs": [
    {
     "data": {
      "text/latex": [
       "\n",
       "\\begin{align*}\n",
       "\\text{Consider matrix } &X \\in \\mathbb{R}^{m\\times n} \\text{ given as:}\\\\\n",
       "X &= \\begin{bmatrix}\n",
       "    x_{11}       & x_{12} & x_{13} & \\dots & x_{1n} \\\\\n",
       "    x_{21}       & x_{22} & x_{23} & \\dots & x_{2n} \\\\\n",
       "    \\dots \\\\\n",
       "    x_{m1}       & x_{m2} & x_{m3} & \\dots & x_{mn}\n",
       "\\end{bmatrix}, \n",
       "Y = \\begin{bmatrix}\n",
       "    y_{11}       & y_{12} & y_{13} & \\dots & y_{1n} \\\\\n",
       "    y_{21}       & y_{22} & y_{23} & \\dots & y_{2n} \\\\\n",
       "    \\dots \\\\\n",
       "    y_{m1}       & y_{m2} & y_{m3} & \\dots & y_{mn}\n",
       "\\end{bmatrix}\\\\\\\\\n",
       "\n",
       "\\text{Sum:}\\quad &Z = X + Y; \\quad z_{ij} = x_{ij} + y_{ij}\n",
       "\\end{align*}\n"
      ],
      "text/plain": [
       "<IPython.core.display.Latex object>"
      ]
     },
     "execution_count": 4,
     "metadata": {},
     "output_type": "execute_result"
    }
   ],
   "source": [
    "Latex(r'''\n",
    "\\begin{align*}\n",
    "\\text{Consider matrix } &X \\in \\mathbb{R}^{m\\times n} \\text{ given as:}\\\\\n",
    "X &= \\begin{bmatrix}\n",
    "    x_{11}       & x_{12} & x_{13} & \\dots & x_{1n} \\\\\n",
    "    x_{21}       & x_{22} & x_{23} & \\dots & x_{2n} \\\\\n",
    "    \\dots \\\\\n",
    "    x_{m1}       & x_{m2} & x_{m3} & \\dots & x_{mn}\n",
    "\\end{bmatrix}, \n",
    "Y = \\begin{bmatrix}\n",
    "    y_{11}       & y_{12} & y_{13} & \\dots & y_{1n} \\\\\n",
    "    y_{21}       & y_{22} & y_{23} & \\dots & y_{2n} \\\\\n",
    "    \\dots \\\\\n",
    "    y_{m1}       & y_{m2} & y_{m3} & \\dots & y_{mn}\n",
    "\\end{bmatrix}\\\\\\\\\n",
    "\n",
    "\\text{Sum:}\\quad &Z = X + Y; \\quad z_{ij} = x_{ij} + y_{ij}\n",
    "\\end{align*}\n",
    "''')\n"
   ]
  },
  {
   "cell_type": "markdown",
   "metadata": {},
   "source": [
    "#### Matrices and Vectors (in Python)\n",
    "\n",
    "NUMPY: A supremely-optimized, well-maintained scientific computing package for Python. I’m still learning new things about it. I 'm sure you'll appreciate its prowess as you learn more."
   ]
  },
  {
   "cell_type": "code",
   "execution_count": 6,
   "metadata": {},
   "outputs": [],
   "source": [
    "import numpy as np # conventional alias"
   ]
  },
  {
   "cell_type": "code",
   "execution_count": 7,
   "metadata": {},
   "outputs": [],
   "source": [
    "## matrix\n",
    "X = np.array([[1, 2, 3],\n",
    " [4, 5, 6],\n",
    " [7, 8, 9]])"
   ]
  },
  {
   "cell_type": "code",
   "execution_count": null,
   "metadata": {},
   "outputs": [],
   "source": [
    "print(X)\n",
    "print(\"shape:\", X.shape) \n",
    "print(\"dim (axes):\", X.ndim) \n",
    "print(\"size:\", X.size) \n",
    "print(\"type:\", type(X)) "
   ]
  },
  {
   "cell_type": "code",
   "execution_count": null,
   "metadata": {},
   "outputs": [],
   "source": [
    "# vector\n",
    "u = np.array([[1],\n",
    " [2],\n",
    " [3]])"
   ]
  },
  {
   "cell_type": "code",
   "execution_count": null,
   "metadata": {},
   "outputs": [],
   "source": [
    "print(u)\n",
    "print(\"shape:\", u.shape) \n",
    "print(\"dim (axes):\", u.ndim) \n",
    "print(\"size:\", u.size) \n",
    "print(\"type:\", type(u)) "
   ]
  },
  {
   "cell_type": "code",
   "execution_count": null,
   "metadata": {},
   "outputs": [],
   "source": [
    "## Indexing\n",
    "X[0]\n",
    "X[0,1]\n",
    "X[:2, 1:3]"
   ]
  },
  {
   "cell_type": "code",
   "execution_count": null,
   "metadata": {},
   "outputs": [],
   "source": [
    "## Dot (or Inner) product\n",
    "Latex(r'''\n",
    "\\begin{align*}\n",
    "&u = \\begin{bmatrix}x_1\\\\ x_2\\end{bmatrix}, \\quad\\quad v = \\begin{bmatrix}y_1\\\\ y_2\\end{bmatrix}\\\\\n",
    "u.v = x_{1} y_{1} + x_{2} y_{2}\n",
    "\\end{align*}\n",
    "''')"
   ]
  },
  {
   "cell_type": "code",
   "execution_count": null,
   "metadata": {},
   "outputs": [],
   "source": [
    "## Outer product\n",
    "Latex(r'''\n",
    "\\begin{align*}\n",
    "u \\otimes v = u.v^T = \\begin{bmatrix}x_1\\\\x_2\\end{bmatrix}. \\begin{bmatrix}y_1 \\quad y_2\\end{bmatrix}\n",
    "=\\begin{bmatrix} x_1 y_1 \\quad x_1 y_2\\\\ x_2 y_1 \\quad x_2 y_2\\end{bmatrix}\n",
    "\\end{align*}\n",
    "'''\n",
    ")"
   ]
  },
  {
   "cell_type": "markdown",
   "metadata": {},
   "source": [
    "#### Matrix multiplication\n",
    "Matrix product is obtained by dot product between rows of first matrix and columns of second matrix. This is illustrated in the figure below.\n",
    "<figure>\n",
    "  <center>\n",
    "  <img src=\"fig/matmul.png\" width=\"700\" height=\"200\">\n",
    "  </center>\n",
    "</figure>"
   ]
  },
  {
   "cell_type": "code",
   "execution_count": null,
   "metadata": {},
   "outputs": [],
   "source": [
    "X"
   ]
  },
  {
   "cell_type": "code",
   "execution_count": null,
   "metadata": {},
   "outputs": [],
   "source": [
    "## Let us define a matrix Y\n",
    "Y = np.arange(15, dtype = float).reshape(3, 5)\n",
    "Y"
   ]
  },
  {
   "cell_type": "code",
   "execution_count": null,
   "metadata": {},
   "outputs": [],
   "source": [
    "print('Multiplied matrix:')\n",
    "print(np.matmul(X, Y)) # matrix multiplication of X and Y\n",
    "print(np.dot(X, Y)) ## same as matmul for 2-d matrices"
   ]
  },
  {
   "cell_type": "code",
   "execution_count": null,
   "metadata": {},
   "outputs": [],
   "source": [
    "X"
   ]
  },
  {
   "cell_type": "code",
   "execution_count": null,
   "metadata": {},
   "outputs": [],
   "source": [
    "u"
   ]
  },
  {
   "cell_type": "code",
   "execution_count": null,
   "metadata": {},
   "outputs": [],
   "source": [
    "## Dot product between a matrix and a vector\n",
    "print(np.dot(X, u))"
   ]
  },
  {
   "cell_type": "code",
   "execution_count": null,
   "metadata": {},
   "outputs": [],
   "source": [
    "## Element wise operation\n",
    "print(np.multiply(X, u))\n",
    "print(X * u)"
   ]
  },
  {
   "cell_type": "code",
   "execution_count": null,
   "metadata": {},
   "outputs": [],
   "source": [
    "### Transpose\n",
    "print(X.T) # transpose a matrix\n",
    "print()\n",
    "print(u.T) # transpose a vector"
   ]
  },
  {
   "cell_type": "code",
   "execution_count": null,
   "metadata": {},
   "outputs": [],
   "source": [
    "## Special ways to create matrices\n",
    "print( np.arange(15, dtype = float).reshape(3, 5))\n",
    "print( \"\\n---\")\n",
    "\n",
    "print( np.zeros((3,4))) # all zeroes\n",
    "print( \"\\n---\")\n",
    "\n",
    "print( np.ones((3,4))) # all ones\n",
    "print( \"\\n---\")\n",
    "\n",
    "print( np.empty((3,4), dtype = str)) # empty\n",
    "print( \"\\n---\")\n",
    "\n",
    "print(np.eye(4))  # identity matrix"
   ]
  },
  {
   "cell_type": "code",
   "execution_count": null,
   "metadata": {},
   "outputs": [],
   "source": [
    "# arrange\n",
    "print(\"arange:\", np.arange(0, 2, 0.25)) # Exclusive upper bound, provide step"
   ]
  },
  {
   "cell_type": "code",
   "execution_count": null,
   "metadata": {},
   "outputs": [],
   "source": [
    "### Element-wise operations\n",
    "\n",
    "a = np.array( [20, 30, 40, 50] )\n",
    "b = np.arange( 4 )\n",
    "\n",
    "print(a-b)                  # Addition/Subtration \n",
    "\n",
    "print(b**2)                 # Exponentiation\n",
    "\n",
    "print(10*np.sin(a))         # Multiplication (!)\n",
    "\n",
    "print(a < 35)               # Boolean"
   ]
  }
 ],
 "metadata": {
  "kernelspec": {
   "display_name": "Python 3",
   "language": "python",
   "name": "python3"
  },
  "language_info": {
   "codemirror_mode": {
    "name": "ipython",
    "version": 3
   },
   "file_extension": ".py",
   "mimetype": "text/x-python",
   "name": "python",
   "nbconvert_exporter": "python",
   "pygments_lexer": "ipython3",
   "version": "3.8.5"
  }
 },
 "nbformat": 4,
 "nbformat_minor": 2
}
