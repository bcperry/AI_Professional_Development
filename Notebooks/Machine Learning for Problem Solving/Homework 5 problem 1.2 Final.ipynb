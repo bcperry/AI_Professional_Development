{
 "cells": [
  {
   "cell_type": "code",
   "execution_count": 1,
   "metadata": {},
   "outputs": [],
   "source": [
    "import numpy as np\n",
    "from numpy.linalg import norm\n",
    "\n",
    "\n",
    "class Kmeans:\n",
    "    '''Implementing Kmeans algorithm.'''\n",
    "\n",
    "    def __init__(self, n_clusters, max_iter=100, random_state=123):\n",
    "        self.n_clusters = n_clusters\n",
    "        self.max_iter = max_iter\n",
    "        self.random_state = random_state\n",
    "\n",
    "    def initialize_centroids(self, X):\n",
    "        np.random.RandomState(self.random_state)\n",
    "        random_idx = np.random.permutation(X.shape[0])\n",
    "        centroids = X[random_idx[:self.n_clusters]]\n",
    "        centroids = np.array([[6.2,3.2], [6.6,3.7], [6.5,3.0]])\n",
    "       \n",
    "        return centroids\n",
    "\n",
    "    def compute_distance(self, X, centroids):\n",
    "        distance = np.zeros((X.shape[0], self.n_clusters))\n",
    "        row_norm = np.zeros((X.shape[0], self.n_clusters))\n",
    "        for k in range(self.n_clusters):\n",
    "            \n",
    "            row_norm1 = norm(X - centroids[k, :], axis=1, ord=2)\n",
    "            row_norm[:, k] = row_norm1\n",
    "            distance[:, k] = np.square(row_norm1)\n",
    "        return distance, row_norm\n",
    "\n",
    "    def find_closest_cluster(self, distance):\n",
    "        return np.argmin(distance, axis=1)\n",
    "    \n",
    "    def compute_centroids(self, X, labels):\n",
    "        centroids = np.zeros((self.n_clusters, X.shape[1]))\n",
    "        for k in range(self.n_clusters):\n",
    "            centroids[k, :] = np.mean(X[labels == k, :], axis=0)\n",
    "        return centroids\n",
    "\n",
    "    def compute_sse(self, X, labels, centroids):\n",
    "        distance = np.zeros(X.shape[0])\n",
    "        for k in range(self.n_clusters):\n",
    "            distance[labels == k] = norm(X[labels == k] - centroids[k], axis=1)\n",
    "        return np.sum(np.square(distance))\n",
    "    \n",
    "    def fit(self, X):\n",
    "        self.centroids = self.initialize_centroids(X)\n",
    "        for i in range(self.max_iter):\n",
    "            \n",
    "            old_centroids = self.centroids\n",
    "\n",
    "            distance, row_norm = self.compute_distance(X, old_centroids)\n",
    "            self.distance = distance\n",
    "            self.row_norm = row_norm\n",
    "            self.labels = self.find_closest_cluster(distance)\n",
    "            self.centroids = self.compute_centroids(X, self.labels)\n",
    "            print('Running iteration ' + str(i + 1))\n",
    "            \n",
    "            if np.all(old_centroids == self.centroids):\n",
    "                print('converged on iteration ' + str(i + 1))\n",
    "                break\n",
    "        self.error = self.compute_sse(X, self.labels, self.centroids)\n",
    "    \n",
    "    def predict(self, X):\n",
    "        distance = self.compute_distance(X, self.centroids)\n",
    "        return self.find_closest_cluster(distance)"
   ]
  },
  {
   "cell_type": "code",
   "execution_count": 2,
   "metadata": {},
   "outputs": [],
   "source": [
    "%matplotlib inline\n",
    "import matplotlib.pyplot as plt\n",
    "from matplotlib.image import imread\n",
    "import pandas as pd\n",
    "import seaborn as sns\n",
    "from sklearn.preprocessing import StandardScaler"
   ]
  },
  {
   "cell_type": "code",
   "execution_count": 3,
   "metadata": {},
   "outputs": [
    {
     "data": {
      "image/png": "[encoded data removed]",
      "text/plain": [
       "<Figure size 432x432 with 1 Axes>"
      ]
     },
     "metadata": {
      "needs_background": "light"
     },
     "output_type": "display_data"
    }
   ],
   "source": [
    "# Import the data\n",
    "df = pd.read_csv('1.2 data.csv', header = None)\n",
    "\n",
    "# Plot the data\n",
    "plt.figure(figsize=(6, 6))\n",
    "plt.scatter(df.iloc[:, 0], df.iloc[:, 1])\n",
    "plt.xlabel('x')\n",
    "plt.ylabel('y')\n",
    "plt.title('Visualization of raw data');"
   ]
  },
  {
   "cell_type": "code",
   "execution_count": 9,
   "metadata": {},
   "outputs": [
    {
     "name": "stdout",
     "output_type": "stream",
     "text": [
      "Running iteration 1\n",
      "Running iteration 2\n",
      "              x      y\n",
      "mu1(red)    4.8  3.050\n",
      "mu2(green)  5.3  4.000\n",
      "mu3(blue)   6.2  3.025\n"
     ]
    },
    {
     "data": {
      "image/png": "[encoded data removed]",
      "text/plain": [
       "<Figure size 432x432 with 1 Axes>"
      ]
     },
     "metadata": {
      "needs_background": "light"
     },
     "output_type": "display_data"
    }
   ],
   "source": [
    "# Standardize the data\n",
    "X_std = np.array(df)\n",
    "\n",
    "# Run local implementation of kmeans\n",
    "km = Kmeans(n_clusters=3, max_iter=2)\n",
    "km.fit(X_std)\n",
    "centroids = km.centroids\n",
    "cent_df = pd.DataFrame(centroids,  columns = ['x', 'y'], index=[\"mu1(red)\", \"mu2(green)\", \"mu3(blue)\"])\n",
    "\n",
    "print(cent_df)\n",
    "\n",
    "# Plot the clustered data\n",
    "fig, ax = plt.subplots(figsize=(6, 6))\n",
    "plt.scatter(X_std[km.labels == 0, 0], X_std[km.labels == 0, 1],\n",
    "            c='red', label='cluster 1')\n",
    "plt.scatter(X_std[km.labels == 1, 0], X_std[km.labels == 1, 1],\n",
    "            c='green', label='cluster 2')\n",
    "plt.scatter(X_std[km.labels == 2, 0], X_std[km.labels == 2, 1],\n",
    "            c='blue', label='cluster 3')\n",
    "plt.scatter(centroids[:, 0], centroids[:, 1], marker='*', s=300,\n",
    "            c='r', label='centroid')\n",
    "plt.legend()\n",
    "\n",
    "plt.xlabel('x')\n",
    "plt.ylabel('y')\n",
    "plt.title('Visualization labeled data');\n",
    "ax.set_aspect('equal');\n",
    "\n",
    "\n"
   ]
  },
  {
   "cell_type": "code",
   "execution_count": 10,
   "metadata": {},
   "outputs": [
    {
     "name": "stdout",
     "output_type": "stream",
     "text": [
      "              x      y\n",
      "mu1(red)    4.8  3.050\n",
      "mu2(green)  5.3  4.000\n",
      "mu3(blue)   6.2  3.025\n"
     ]
    },
    {
     "data": {
      "text/html": [
       "<div>\n",
       "<style scoped>\n",
       "    .dataframe tbody tr th:only-of-type {\n",
       "        vertical-align: middle;\n",
       "    }\n",
       "\n",
       "    .dataframe tbody tr th {\n",
       "        vertical-align: top;\n",
       "    }\n",
       "\n",
       "    .dataframe thead th {\n",
       "        text-align: right;\n",
       "    }\n",
       "</style>\n",
       "<table border=\"1\" class=\"dataframe\">\n",
       "  <thead>\n",
       "    <tr style=\"text-align: right;\">\n",
       "      <th></th>\n",
       "      <th>x1</th>\n",
       "      <th>x2</th>\n",
       "      <th>x3</th>\n",
       "      <th>x4</th>\n",
       "      <th>x5</th>\n",
       "      <th>x6</th>\n",
       "      <th>x7</th>\n",
       "      <th>x8</th>\n",
       "      <th>x9</th>\n",
       "      <th>x10</th>\n",
       "    </tr>\n",
       "  </thead>\n",
       "  <tbody>\n",
       "    <tr>\n",
       "      <th>mu1(red)</th>\n",
       "      <td>0.729</td>\n",
       "      <td>0.633</td>\n",
       "      <td>1.094</td>\n",
       "      <td>0.472</td>\n",
       "      <td>1.08</td>\n",
       "      <td>0.242</td>\n",
       "      <td>0.281</td>\n",
       "      <td>1.530</td>\n",
       "      <td>0.633</td>\n",
       "      <td>0.846</td>\n",
       "    </tr>\n",
       "    <tr>\n",
       "      <th>mu2(green)</th>\n",
       "      <td>1.077</td>\n",
       "      <td>1.581</td>\n",
       "      <td>1.565</td>\n",
       "      <td>1.281</td>\n",
       "      <td>0.00</td>\n",
       "      <td>1.300</td>\n",
       "      <td>1.253</td>\n",
       "      <td>1.628</td>\n",
       "      <td>0.566</td>\n",
       "      <td>1.300</td>\n",
       "    </tr>\n",
       "    <tr>\n",
       "      <th>mu3(blue)</th>\n",
       "      <td>0.604</td>\n",
       "      <td>1.851</td>\n",
       "      <td>0.292</td>\n",
       "      <td>1.768</td>\n",
       "      <td>1.57</td>\n",
       "      <td>1.451</td>\n",
       "      <td>1.557</td>\n",
       "      <td>0.292</td>\n",
       "      <td>1.595</td>\n",
       "      <td>0.453</td>\n",
       "    </tr>\n",
       "  </tbody>\n",
       "</table>\n",
       "</div>"
      ],
      "text/plain": [
       "               x1     x2     x3     x4    x5     x6     x7     x8     x9  \\\n",
       "mu1(red)    0.729  0.633  1.094  0.472  1.08  0.242  0.281  1.530  0.633   \n",
       "mu2(green)  1.077  1.581  1.565  1.281  0.00  1.300  1.253  1.628  0.566   \n",
       "mu3(blue)   0.604  1.851  0.292  1.768  1.57  1.451  1.557  0.292  1.595   \n",
       "\n",
       "              x10  \n",
       "mu1(red)    0.846  \n",
       "mu2(green)  1.300  \n",
       "mu3(blue)   0.453  "
      ]
     },
     "execution_count": 10,
     "metadata": {},
     "output_type": "execute_result"
    }
   ],
   "source": [
    "print(cent_df)\n",
    "df1 = pd.DataFrame(km.row_norm.round(decimals = 3), columns=[\"mu1(red)\", \"mu2(green)\", \"mu3(blue)\"], index = ['x1','x2','x3','x4','x5','x6','x7','x8','x9','x10'])\n",
    "df1.transpose()"
   ]
  },
  {
   "cell_type": "code",
   "execution_count": null,
   "metadata": {},
   "outputs": [],
   "source": []
  }
 ],
 "metadata": {
  "kernelspec": {
   "display_name": "Python 3 (ipykernel)",
   "language": "python",
   "name": "python3"
  },
  "language_info": {
   "codemirror_mode": {
    "name": "ipython",
    "version": 3
   },
   "file_extension": ".py",
   "mimetype": "text/x-python",
   "name": "python",
   "nbconvert_exporter": "python",
   "pygments_lexer": "ipython3",
   "version": "3.9.13"
  }
 },
 "nbformat": 4,
 "nbformat_minor": 4
}
