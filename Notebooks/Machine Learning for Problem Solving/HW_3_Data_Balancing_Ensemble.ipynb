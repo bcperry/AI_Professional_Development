{
 "cells": [
  {
   "cell_type": "markdown",
   "metadata": {},
   "source": [
    "# Tree-based (Ensemble) Models and Handling Imbalanced Data [30 points]\n",
    "\n",
    "For this problem, we will use the wine quality dataset on which the task is a binary classification of whether a given wine is of low or high quality based on different physicochemical features.\n",
    " \n",
    "The dataset consists of a set of physicochemical features as inputs and the target is wine quality stored in the target column, where a value of 1 corresponds to an instance of high quality wine and -1 corresponds to an instance of low quality ones."
   ]
  },
  {
   "cell_type": "markdown",
   "metadata": {},
   "source": [
    "### Loading the data (3pts)\n",
    "Load the data from library."
   ]
  },
  {
   "cell_type": "code",
   "execution_count": 1,
   "metadata": {},
   "outputs": [],
   "source": [
    "# Alternate method of loading datsets bases on Piazza question @41 (load datasets error):\n",
    "\n",
    "import numpy as np\n",
    "import pandas as pd\n",
    "\n",
    "# Import Dataset:\n",
    "data = pd.read_csv('winequality-white.csv', ';')\n",
    "data['quality'] =data['quality'].replace([5, 6, 7, 8, 9, 10], [-1, -1, -1, -1, -1, -1])\n",
    "data['quality'] =data['quality'].replace([1, 2, 3, 4], [1, 1, 1, 1])\n",
    "\n",
    "X = data.iloc[:,:-1]\n",
    "y = data.iloc[:,-1]\n",
    "\n",
    "# Use X_train, X_test, y_train, y_test for all of the following questions\n",
    "from sklearn.model_selection import train_test_split\n",
    "\n",
    "X_train, X_test, y_train, y_test = train_test_split(X, y, random_state=0)"
   ]
  },
  {
   "cell_type": "markdown",
   "metadata": {},
   "source": [
    "**Question:** Draw the class distribution of the dataset. What are possible problems if we train a classification model directly on this dataset?\n",
    "\n",
    "***The data is highly imbalainced.  Only about 4% of the wines are classified as high quality.  Directly training a classification model may lead to missclassifications due to data inbalance***\n",
    "\n",
    "***For this problem, there is a very high proportion of low quality wine and not very many high quality samples. If a model was trained on this data, it would be easy for the model to fit to the low quality data and still look very accurate. If 99% of the data is one type, guessing that type every time would be 99% accurate, but the high quality samples would never be correctly identified, leading to low recall.***"
   ]
  },
  {
   "cell_type": "code",
   "execution_count": 2,
   "metadata": {},
   "outputs": [
    {
     "name": "stdout",
     "output_type": "stream",
     "text": [
      "Percentage of high quality observations: 0.03736218864842793%\n"
     ]
    },
    {
     "data": {
      "text/plain": [
       "<AxesSubplot:xlabel='quality', ylabel='count'>"
      ]
     },
     "execution_count": 2,
     "metadata": {},
     "output_type": "execute_result"
    },
    {
     "data": {
      "image/png": "[encoded data removed]",
      "text/plain": [
       "<Figure size 432x288 with 1 Axes>"
      ]
     },
     "metadata": {
      "needs_background": "light"
     },
     "output_type": "display_data"
    }
   ],
   "source": [
    "# import libraries for plotting class distribution\n",
    "import matplotlib.pyplot as plt\n",
    "import seaborn as sns\n",
    "\n",
    "count = data['quality'].value_counts()\n",
    "\n",
    "high_quality_ratio = count[1]/(count[1] + count[-1])\n",
    "print('Percentage of high quality observations: {}%'.format(high_quality_ratio))\n",
    "\n",
    "# color coding for 2 classes\n",
    "colors = [\"#0101DF\", \"#DF0101\"]\n",
    "\n",
    "## code to plot the class distribution. Hint: countplot in seaborn\n",
    "sns.countplot(x = 'quality', data=data)"
   ]
  },
  {
   "cell_type": "markdown",
   "metadata": {},
   "source": [
    "### Training and testing a Random Forest classfier directly on the data (3pts)\n",
    "\n",
    "Let's first train a random forest classifier with default parameters using X_train and y_train and test the performance on the test data."
   ]
  },
  {
   "cell_type": "code",
   "execution_count": 3,
   "metadata": {},
   "outputs": [
    {
     "name": "stdout",
     "output_type": "stream",
     "text": [
      "Random forest classifier accuray: 0.950204081632653\n",
      "Random forest classifier recall: 0.09090909090909091\n"
     ]
    }
   ],
   "source": [
    "from sklearn.ensemble import RandomForestClassifier # class for random forest classifier\n",
    "from sklearn.metrics import accuracy_score\n",
    "from sklearn.metrics import recall_score\n",
    "\n",
    "## Instantiate and fit a random forest classifier to the training data\n",
    "rf = RandomForestClassifier()\n",
    "rf.fit(X_train, y_train)\n",
    "rf_test_predict = rf.predict(X_test)\n",
    "\n",
    "## Measure and print out the accuracy and recall\n",
    "test_acc = accuracy_score(y_test, rf_test_predict)\n",
    "\n",
    "print('Random forest classifier accuray:', test_acc)\n",
    "\n",
    "test_recall = recall_score(y_test, rf_test_predict)\n",
    "\n",
    "print('Random forest classifier recall:', test_recall)"
   ]
  },
  {
   "cell_type": "markdown",
   "metadata": {},
   "source": [
    "**Quetion:** Compute the recall and accuracy scores of the random forest classifier. How is the gap between the accuracy and recall scores? Provide an explanation.\n",
    "\n",
    "***The accuracy is very high (95%), likely following the tendency described above, but the recall is very low (14%). There is a large gap between the recall and accuracy score of the random forest.  This is likely because of the imbalance in the data.  Since only 3.7% of the data are high quality wines, we would be able to make a classifier highly accurate by classifying all wines as low quality, this would however have poor recall as we see here.***\n",
    "***"
   ]
  },
  {
   "cell_type": "markdown",
   "metadata": {},
   "source": [
    "### Data balancing via Smote (6pts)"
   ]
  },
  {
   "cell_type": "code",
   "execution_count": 4,
   "metadata": {},
   "outputs": [
    {
     "name": "stdout",
     "output_type": "stream",
     "text": [
      "Percentage of high quality counts in the balanced data: 50.0%\n"
     ]
    }
   ],
   "source": [
    "from imblearn.over_sampling import SMOTE #Over sampling\n",
    "import numpy as np\n",
    "\n",
    "## Instantiate smote and balance training data only\n",
    "sm = SMOTE()\n",
    "X_train, y_train = sm.fit_resample(X_train, y_train)\n",
    "\n",
    "count_SMOTE = y_train.value_counts()\n",
    "high_quality_ratio_SMOTE = count_SMOTE[1]/(count_SMOTE[1] + count_SMOTE[-1])\n",
    "\n",
    "## Compute and print percentage of high quality wine after balancing\n",
    "print('Percentage of high quality counts in the balanced data: {}%'.format(high_quality_ratio_SMOTE*100))"
   ]
  },
  {
   "cell_type": "markdown",
   "metadata": {},
   "source": [
    "**Question:** Plot the distribution of balanced training data."
   ]
  },
  {
   "cell_type": "code",
   "execution_count": 5,
   "metadata": {},
   "outputs": [
    {
     "name": "stderr",
     "output_type": "stream",
     "text": [
      "C:\\Users\\bcper\\anaconda3\\lib\\site-packages\\seaborn\\_decorators.py:36: FutureWarning: Pass the following variable as a keyword arg: x. From version 0.12, the only valid positional argument will be `data`, and passing other arguments without an explicit keyword will result in an error or misinterpretation.\n",
      "  warnings.warn(\n"
     ]
    },
    {
     "data": {
      "text/plain": [
       "<AxesSubplot:xlabel='quality', ylabel='count'>"
      ]
     },
     "execution_count": 5,
     "metadata": {},
     "output_type": "execute_result"
    },
    {
     "data": {
      "image/png": "[encoded data removed]",
      "text/plain": [
       "<Figure size 432x288 with 1 Axes>"
      ]
     },
     "metadata": {
      "needs_background": "light"
     },
     "output_type": "display_data"
    }
   ],
   "source": [
    "colors = [\"#0101DF\", \"#DF0101\"]\n",
    "## plot the class distribution of training data after balanced\n",
    "sns.countplot(y_train)"
   ]
  },
  {
   "cell_type": "markdown",
   "metadata": {},
   "source": [
    "Let's retrain and test our random forest model on the balanced training data"
   ]
  },
  {
   "cell_type": "code",
   "execution_count": 6,
   "metadata": {},
   "outputs": [
    {
     "name": "stdout",
     "output_type": "stream",
     "text": [
      "Random forest classifier accuray: 0.9428571428571428\n",
      "Random forest classifier recall: 0.36363636363636365\n"
     ]
    }
   ],
   "source": [
    "## Instantiate random forest and train on balanced training data\n",
    "rf = RandomForestClassifier()\n",
    "rf.fit(X_train, y_train)\n",
    "rf_test_predict = rf.predict(X_test)\n",
    "\n",
    "test_acc = accuracy_score(y_test, rf_test_predict)\n",
    "\n",
    "print('Random forest classifier accuray:', test_acc)\n",
    "\n",
    "test_recall = recall_score(y_test, rf_test_predict)\n",
    "\n",
    "print('Random forest classifier recall:', test_recall)"
   ]
  },
  {
   "cell_type": "markdown",
   "metadata": {},
   "source": [
    "**Question:** Compute the recall and accuracy scores of the new random forest classifier. How do the accuracy and recall change compared to those without data balancing?\n",
    "\n",
    "***The accuracy went down slightly, from 95% to 94%, but the recall nearly tripled from 12% to 36%.***"
   ]
  },
  {
   "cell_type": "markdown",
   "metadata": {},
   "source": [
    "### Control complexity of the model (18pts)\n",
    "\n",
    "#### Control the depth of decision trees in our ensemble (6pts)\n",
    "By default, the decision trees in random forest are expanded until all leaves are pure or until all leaves contain less than a certain number set by min_samples_split parameter. Let's try a fixed maximum depth that the tree can expand."
   ]
  },
  {
   "cell_type": "code",
   "execution_count": 7,
   "metadata": {},
   "outputs": [
    {
     "name": "stdout",
     "output_type": "stream",
     "text": [
      "Random forest classifier accuray: 0.8375510204081633\n",
      "Random forest classifier recall: 0.6060606060606061\n"
     ]
    }
   ],
   "source": [
    "## Instantiate model with max depth trees being 3\n",
    "rf = RandomForestClassifier(max_depth = 3)\n",
    "rf.fit(X_train, y_train)\n",
    "rf_test_predict = rf.predict(X_test)\n",
    "\n",
    "test_acc = accuracy_score(y_test, rf_test_predict)\n",
    "\n",
    "print('Random forest classifier accuray:', test_acc)\n",
    "\n",
    "test_recall = recall_score(y_test, rf_test_predict)\n",
    "\n",
    "print('Random forest classifier recall:', test_recall)"
   ]
  },
  {
   "cell_type": "markdown",
   "metadata": {},
   "source": [
    "**Question:** Compute the recall and accuracy scores of the new random forest classifier. How do the accuracy and recall change compared to those in the default parameter case?\n",
    "\n",
    "***Again, accuracy decreased this time from 94% to 84%, but there was another increase in recall from 34% to 61%.***"
   ]
  },
  {
   "cell_type": "markdown",
   "metadata": {},
   "source": [
    "#### Choose the number of trees in the forest (6pts)\n",
    "By default, we use 10 random trees. Let's increase this number to 100"
   ]
  },
  {
   "cell_type": "code",
   "execution_count": 8,
   "metadata": {},
   "outputs": [
    {
     "name": "stdout",
     "output_type": "stream",
     "text": [
      "Random forest classifier accuray: 0.830204081632653\n",
      "Random forest classifier recall: 0.5909090909090909\n"
     ]
    }
   ],
   "source": [
    "## Instantiate model with max depth of 3 and 100 decision trees\n",
    "rf = RandomForestClassifier(n_estimators = 100, max_depth = 3)\n",
    "rf.fit(X_train, y_train)\n",
    "rf_test_predict = rf.predict(X_test)\n",
    "\n",
    "test_acc = accuracy_score(y_test, rf_test_predict)\n",
    "\n",
    "print('Random forest classifier accuray:', test_acc)\n",
    "\n",
    "test_recall = recall_score(y_test, rf_test_predict)\n",
    "\n",
    "print('Random forest classifier recall:', test_recall)"
   ]
  },
  {
   "cell_type": "markdown",
   "metadata": {},
   "source": [
    "**Question:** Compute the recall and accuracy scores of the random forest classifier. How do the accuracy and recall change compared to those with 10 trees? What do the results imply about increasing the number of trees?\n",
    "\n",
    "***This time the accuracy and recall show only a small change. This shows that increasing the number of trees from 10 to 100 does not have much of an effect for this particular model.***"
   ]
  },
  {
   "cell_type": "markdown",
   "metadata": {},
   "source": [
    "#### Tree pruning by min_impurity_decrease (6pts)\n",
    "By default, the tree keeps expanding until the impurity is 0. However, we can specify a minimum impurity decrease amount under which nodes in the tree stop branching. RandomForestClassifier in sklearn use min_impurity_decrease for setting this threshold. Let's try that on our problem."
   ]
  },
  {
   "cell_type": "code",
   "execution_count": 12,
   "metadata": {},
   "outputs": [
    {
     "name": "stdout",
     "output_type": "stream",
     "text": [
      "Random forest classifier accuray: 0.913469387755102\n",
      "Random forest classifier recall: 0.5151515151515151\n"
     ]
    }
   ],
   "source": [
    "## Instantiate model with min impurity decrease of 0.001\n",
    "rf = RandomForestClassifier(min_impurity_decrease = 0.001)\n",
    "rf.fit(X_train, y_train)\n",
    "rf_test_predict = rf.predict(X_test)\n",
    "\n",
    "test_acc = accuracy_score(y_test, rf_test_predict)\n",
    "\n",
    "print('Random forest classifier accuray:', test_acc)\n",
    "\n",
    "test_recall = recall_score(y_test, rf_test_predict)\n",
    "\n",
    "print('Random forest classifier recall:', test_recall)"
   ]
  },
  {
   "cell_type": "markdown",
   "metadata": {},
   "source": [
    "**Question:** Compute the recall and accuracy scores of the random forest classifier. How does the recall change compared to those with 10 trees and max_depth = 3?\n",
    "\n",
    "***In this case, comparing to the 10 tree depth 3 model, both the accuracy and recall are higher. The accuracy increased from 82% to 91% while the recall increased slightly from 50% to 51%.***"
   ]
  },
  {
   "cell_type": "code",
   "execution_count": null,
   "metadata": {},
   "outputs": [],
   "source": []
  }
 ],
 "metadata": {
  "coursera": {
   "course_slug": "python-machine-learning",
   "graded_item_id": "5yX9Z",
   "launcher_item_id": "eqnV3",
   "part_id": "Msnj0"
  },
  "kernelspec": {
   "display_name": "Python 3 (ipykernel)",
   "language": "python",
   "name": "python3"
  },
  "language_info": {
   "codemirror_mode": {
    "name": "ipython",
    "version": 3
   },
   "file_extension": ".py",
   "mimetype": "text/x-python",
   "name": "python",
   "nbconvert_exporter": "python",
   "pygments_lexer": "ipython3",
   "version": "3.9.13"
  }
 },
 "nbformat": 4,
 "nbformat_minor": 4
}
