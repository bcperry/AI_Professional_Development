{
 "cells": [
  {
   "cell_type": "markdown",
   "metadata": {},
   "source": [
    "### Exploratory Data Analysis \n",
    "\n",
    "Employee turnover is a key problem faced by many organizations. When good people leave, it usually costs the organization substantial time and other resources to find a replacement. Therefore, many organizations try to keep the churn rate at a low level. Imagine a company who now wants to understand its employee churn situation. Its HR (Human Resources) department gives you some data of their employees, and asks you to do exploratory data analysis and to predict employee churn.\n",
    "\n",
    "You are free to choose any statistics library to analyze the data. In your answer, please include both the snippets of your code as well as the outputs.\n",
    "\n",
    "Download the data `termination.csv` and `.ipynb` template from Canvas. Use the downloaded resources to answer the following questions:"
   ]
  },
  {
   "cell_type": "markdown",
   "metadata": {},
   "source": [
    "#### a. (2 pts) Display a summary of the data (i.e. min, max, mean and quartiles for each variable). In the summary statistics, are there any meaningless quantities?"
   ]
  },
  {
   "cell_type": "code",
   "execution_count": 2,
   "metadata": {},
   "outputs": [],
   "source": [
    "# Step 1: Load essential packages -- refer to recitation"
   ]
  },
  {
   "cell_type": "code",
   "execution_count": 3,
   "metadata": {},
   "outputs": [
    {
     "name": "stderr",
     "output_type": "stream",
     "text": [
      "<ipython-input-3-9f52c2296927>:8: FutureWarning: pandas.util.testing is deprecated. Use the functions in the public API at pandas.testing instead.\n",
      "  import pandas.util.testing as tm\n"
     ]
    }
   ],
   "source": [
    "%matplotlib inline\n",
    "\n",
    "import matplotlib.pyplot as plt\n",
    "import pandas as pd\n",
    "import numpy as np\n",
    "import scipy as sp\n",
    "import seaborn as sns\n",
    "import pandas.util.testing as tm"
   ]
  },
  {
   "cell_type": "code",
   "execution_count": 4,
   "metadata": {},
   "outputs": [],
   "source": [
    "# Step 2: load data using read_csv function"
   ]
  },
  {
   "cell_type": "code",
   "execution_count": 5,
   "metadata": {},
   "outputs": [],
   "source": [
    "df = pd.read_csv('termination.csv')"
   ]
  },
  {
   "cell_type": "code",
   "execution_count": 6,
   "metadata": {},
   "outputs": [],
   "source": [
    "# step 3: Invoke appropriate function on the loaded data to get the summary statistics"
   ]
  },
  {
   "cell_type": "code",
   "execution_count": 7,
   "metadata": {},
   "outputs": [
    {
     "data": {
      "text/html": [
       "<div>\n",
       "<style scoped>\n",
       "    .dataframe tbody tr th:only-of-type {\n",
       "        vertical-align: middle;\n",
       "    }\n",
       "\n",
       "    .dataframe tbody tr th {\n",
       "        vertical-align: top;\n",
       "    }\n",
       "\n",
       "    .dataframe thead th {\n",
       "        text-align: right;\n",
       "    }\n",
       "</style>\n",
       "<table border=\"1\" class=\"dataframe\">\n",
       "  <thead>\n",
       "    <tr style=\"text-align: right;\">\n",
       "      <th></th>\n",
       "      <th>EmployeeID</th>\n",
       "      <th>recorddate_key</th>\n",
       "      <th>birthdate_key</th>\n",
       "      <th>orighiredate_key</th>\n",
       "      <th>terminationdate_key</th>\n",
       "      <th>age</th>\n",
       "      <th>length_of_service</th>\n",
       "      <th>city_name</th>\n",
       "      <th>department_name</th>\n",
       "      <th>job_title</th>\n",
       "      <th>store_name</th>\n",
       "      <th>gender_short</th>\n",
       "      <th>gender_full</th>\n",
       "      <th>termreason_desc</th>\n",
       "      <th>termtype_desc</th>\n",
       "      <th>STATUS_YEAR</th>\n",
       "      <th>STATUS</th>\n",
       "      <th>BUSINESS_UNIT</th>\n",
       "    </tr>\n",
       "  </thead>\n",
       "  <tbody>\n",
       "    <tr>\n",
       "      <th>count</th>\n",
       "      <td>49653.000000</td>\n",
       "      <td>49653</td>\n",
       "      <td>49653</td>\n",
       "      <td>49653</td>\n",
       "      <td>49653</td>\n",
       "      <td>49653.000000</td>\n",
       "      <td>49653.000000</td>\n",
       "      <td>49653</td>\n",
       "      <td>49653</td>\n",
       "      <td>49653</td>\n",
       "      <td>49653.000000</td>\n",
       "      <td>49653</td>\n",
       "      <td>49653</td>\n",
       "      <td>49653</td>\n",
       "      <td>49653</td>\n",
       "      <td>49653.000000</td>\n",
       "      <td>49653</td>\n",
       "      <td>49653</td>\n",
       "    </tr>\n",
       "    <tr>\n",
       "      <th>unique</th>\n",
       "      <td>NaN</td>\n",
       "      <td>130</td>\n",
       "      <td>5342</td>\n",
       "      <td>4415</td>\n",
       "      <td>1055</td>\n",
       "      <td>NaN</td>\n",
       "      <td>NaN</td>\n",
       "      <td>40</td>\n",
       "      <td>21</td>\n",
       "      <td>47</td>\n",
       "      <td>NaN</td>\n",
       "      <td>2</td>\n",
       "      <td>2</td>\n",
       "      <td>4</td>\n",
       "      <td>3</td>\n",
       "      <td>NaN</td>\n",
       "      <td>2</td>\n",
       "      <td>2</td>\n",
       "    </tr>\n",
       "    <tr>\n",
       "      <th>top</th>\n",
       "      <td>NaN</td>\n",
       "      <td>12/31/2013 0:00</td>\n",
       "      <td>1954-08-04</td>\n",
       "      <td>2006-02-26</td>\n",
       "      <td>1900-01-01</td>\n",
       "      <td>NaN</td>\n",
       "      <td>NaN</td>\n",
       "      <td>Vancouver</td>\n",
       "      <td>Meats</td>\n",
       "      <td>Meat Cutter</td>\n",
       "      <td>NaN</td>\n",
       "      <td>F</td>\n",
       "      <td>Female</td>\n",
       "      <td>Not Applicable</td>\n",
       "      <td>Not Applicable</td>\n",
       "      <td>NaN</td>\n",
       "      <td>ACTIVE</td>\n",
       "      <td>STORES</td>\n",
       "    </tr>\n",
       "    <tr>\n",
       "      <th>freq</th>\n",
       "      <td>NaN</td>\n",
       "      <td>5215</td>\n",
       "      <td>40</td>\n",
       "      <td>50</td>\n",
       "      <td>42450</td>\n",
       "      <td>NaN</td>\n",
       "      <td>NaN</td>\n",
       "      <td>11211</td>\n",
       "      <td>10269</td>\n",
       "      <td>9984</td>\n",
       "      <td>NaN</td>\n",
       "      <td>25898</td>\n",
       "      <td>25898</td>\n",
       "      <td>41853</td>\n",
       "      <td>41853</td>\n",
       "      <td>NaN</td>\n",
       "      <td>48168</td>\n",
       "      <td>49068</td>\n",
       "    </tr>\n",
       "    <tr>\n",
       "      <th>mean</th>\n",
       "      <td>4859.495740</td>\n",
       "      <td>NaN</td>\n",
       "      <td>NaN</td>\n",
       "      <td>NaN</td>\n",
       "      <td>NaN</td>\n",
       "      <td>42.077035</td>\n",
       "      <td>10.434596</td>\n",
       "      <td>NaN</td>\n",
       "      <td>NaN</td>\n",
       "      <td>NaN</td>\n",
       "      <td>27.297605</td>\n",
       "      <td>NaN</td>\n",
       "      <td>NaN</td>\n",
       "      <td>NaN</td>\n",
       "      <td>NaN</td>\n",
       "      <td>2010.612612</td>\n",
       "      <td>NaN</td>\n",
       "      <td>NaN</td>\n",
       "    </tr>\n",
       "    <tr>\n",
       "      <th>std</th>\n",
       "      <td>1826.571142</td>\n",
       "      <td>NaN</td>\n",
       "      <td>NaN</td>\n",
       "      <td>NaN</td>\n",
       "      <td>NaN</td>\n",
       "      <td>12.427257</td>\n",
       "      <td>6.325286</td>\n",
       "      <td>NaN</td>\n",
       "      <td>NaN</td>\n",
       "      <td>NaN</td>\n",
       "      <td>13.514134</td>\n",
       "      <td>NaN</td>\n",
       "      <td>NaN</td>\n",
       "      <td>NaN</td>\n",
       "      <td>NaN</td>\n",
       "      <td>2.845577</td>\n",
       "      <td>NaN</td>\n",
       "      <td>NaN</td>\n",
       "    </tr>\n",
       "    <tr>\n",
       "      <th>min</th>\n",
       "      <td>1318.000000</td>\n",
       "      <td>NaN</td>\n",
       "      <td>NaN</td>\n",
       "      <td>NaN</td>\n",
       "      <td>NaN</td>\n",
       "      <td>19.000000</td>\n",
       "      <td>0.000000</td>\n",
       "      <td>NaN</td>\n",
       "      <td>NaN</td>\n",
       "      <td>NaN</td>\n",
       "      <td>1.000000</td>\n",
       "      <td>NaN</td>\n",
       "      <td>NaN</td>\n",
       "      <td>NaN</td>\n",
       "      <td>NaN</td>\n",
       "      <td>2006.000000</td>\n",
       "      <td>NaN</td>\n",
       "      <td>NaN</td>\n",
       "    </tr>\n",
       "    <tr>\n",
       "      <th>50%</th>\n",
       "      <td>5031.000000</td>\n",
       "      <td>NaN</td>\n",
       "      <td>NaN</td>\n",
       "      <td>NaN</td>\n",
       "      <td>NaN</td>\n",
       "      <td>42.000000</td>\n",
       "      <td>10.000000</td>\n",
       "      <td>NaN</td>\n",
       "      <td>NaN</td>\n",
       "      <td>NaN</td>\n",
       "      <td>28.000000</td>\n",
       "      <td>NaN</td>\n",
       "      <td>NaN</td>\n",
       "      <td>NaN</td>\n",
       "      <td>NaN</td>\n",
       "      <td>2011.000000</td>\n",
       "      <td>NaN</td>\n",
       "      <td>NaN</td>\n",
       "    </tr>\n",
       "    <tr>\n",
       "      <th>max</th>\n",
       "      <td>8336.000000</td>\n",
       "      <td>NaN</td>\n",
       "      <td>NaN</td>\n",
       "      <td>NaN</td>\n",
       "      <td>NaN</td>\n",
       "      <td>65.000000</td>\n",
       "      <td>26.000000</td>\n",
       "      <td>NaN</td>\n",
       "      <td>NaN</td>\n",
       "      <td>NaN</td>\n",
       "      <td>46.000000</td>\n",
       "      <td>NaN</td>\n",
       "      <td>NaN</td>\n",
       "      <td>NaN</td>\n",
       "      <td>NaN</td>\n",
       "      <td>2015.000000</td>\n",
       "      <td>NaN</td>\n",
       "      <td>NaN</td>\n",
       "    </tr>\n",
       "  </tbody>\n",
       "</table>\n",
       "</div>"
      ],
      "text/plain": [
       "          EmployeeID   recorddate_key birthdate_key orighiredate_key  \\\n",
       "count   49653.000000            49653         49653            49653   \n",
       "unique           NaN              130          5342             4415   \n",
       "top              NaN  12/31/2013 0:00    1954-08-04       2006-02-26   \n",
       "freq             NaN             5215            40               50   \n",
       "mean     4859.495740              NaN           NaN              NaN   \n",
       "std      1826.571142              NaN           NaN              NaN   \n",
       "min      1318.000000              NaN           NaN              NaN   \n",
       "50%      5031.000000              NaN           NaN              NaN   \n",
       "max      8336.000000              NaN           NaN              NaN   \n",
       "\n",
       "       terminationdate_key           age  length_of_service  city_name  \\\n",
       "count                49653  49653.000000       49653.000000      49653   \n",
       "unique                1055           NaN                NaN         40   \n",
       "top             1900-01-01           NaN                NaN  Vancouver   \n",
       "freq                 42450           NaN                NaN      11211   \n",
       "mean                   NaN     42.077035          10.434596        NaN   \n",
       "std                    NaN     12.427257           6.325286        NaN   \n",
       "min                    NaN     19.000000           0.000000        NaN   \n",
       "50%                    NaN     42.000000          10.000000        NaN   \n",
       "max                    NaN     65.000000          26.000000        NaN   \n",
       "\n",
       "       department_name    job_title    store_name gender_short gender_full  \\\n",
       "count            49653        49653  49653.000000        49653       49653   \n",
       "unique              21           47           NaN            2           2   \n",
       "top              Meats  Meat Cutter           NaN            F      Female   \n",
       "freq             10269         9984           NaN        25898       25898   \n",
       "mean               NaN          NaN     27.297605          NaN         NaN   \n",
       "std                NaN          NaN     13.514134          NaN         NaN   \n",
       "min                NaN          NaN      1.000000          NaN         NaN   \n",
       "50%                NaN          NaN     28.000000          NaN         NaN   \n",
       "max                NaN          NaN     46.000000          NaN         NaN   \n",
       "\n",
       "       termreason_desc   termtype_desc   STATUS_YEAR  STATUS BUSINESS_UNIT  \n",
       "count            49653           49653  49653.000000   49653         49653  \n",
       "unique               4               3           NaN       2             2  \n",
       "top     Not Applicable  Not Applicable           NaN  ACTIVE        STORES  \n",
       "freq             41853           41853           NaN   48168         49068  \n",
       "mean               NaN             NaN   2010.612612     NaN           NaN  \n",
       "std                NaN             NaN      2.845577     NaN           NaN  \n",
       "min                NaN             NaN   2006.000000     NaN           NaN  \n",
       "50%                NaN             NaN   2011.000000     NaN           NaN  \n",
       "max                NaN             NaN   2015.000000     NaN           NaN  "
      ]
     },
     "execution_count": 7,
     "metadata": {},
     "output_type": "execute_result"
    }
   ],
   "source": [
    "df.describe(include='all',percentiles=[])"
   ]
  },
  {
   "cell_type": "markdown",
   "metadata": {},
   "source": [
    "#### b. (5 pts) The data include 10 years (2006 - 2015) of records for both active and terminated employees. Status Year field shows the year of data, and Status field shows the employment status – ACTIVE or TERMINATED in the corresponding status year. The company is interested in what proportion of the staff are leaving. Compute: 1) the percent of terminated employees out of all employees for each year; 2) average termination rate over the 10 years?"
   ]
  },
  {
   "cell_type": "code",
   "execution_count": 8,
   "metadata": {},
   "outputs": [],
   "source": [
    "# Step 1: Create a pivot_table indexing STATUS_YEAR and apply to STATUS column"
   ]
  },
  {
   "cell_type": "code",
   "execution_count": 15,
   "metadata": {},
   "outputs": [
    {
     "data": {
      "text/html": [
       "<div>\n",
       "<style scoped>\n",
       "    .dataframe tbody tr th:only-of-type {\n",
       "        vertical-align: middle;\n",
       "    }\n",
       "\n",
       "    .dataframe tbody tr th {\n",
       "        vertical-align: top;\n",
       "    }\n",
       "\n",
       "    .dataframe thead th {\n",
       "        text-align: right;\n",
       "    }\n",
       "</style>\n",
       "<table border=\"1\" class=\"dataframe\">\n",
       "  <thead>\n",
       "    <tr style=\"text-align: right;\">\n",
       "      <th>STATUS</th>\n",
       "      <th>ACTIVE</th>\n",
       "      <th>TERMINATED</th>\n",
       "      <th>All</th>\n",
       "    </tr>\n",
       "    <tr>\n",
       "      <th>STATUS_YEAR</th>\n",
       "      <th></th>\n",
       "      <th></th>\n",
       "      <th></th>\n",
       "    </tr>\n",
       "  </thead>\n",
       "  <tbody>\n",
       "    <tr>\n",
       "      <th>2006</th>\n",
       "      <td>4445</td>\n",
       "      <td>134</td>\n",
       "      <td>4579</td>\n",
       "    </tr>\n",
       "    <tr>\n",
       "      <th>2007</th>\n",
       "      <td>4521</td>\n",
       "      <td>162</td>\n",
       "      <td>4683</td>\n",
       "    </tr>\n",
       "    <tr>\n",
       "      <th>2008</th>\n",
       "      <td>4603</td>\n",
       "      <td>164</td>\n",
       "      <td>4767</td>\n",
       "    </tr>\n",
       "    <tr>\n",
       "      <th>2009</th>\n",
       "      <td>4710</td>\n",
       "      <td>142</td>\n",
       "      <td>4852</td>\n",
       "    </tr>\n",
       "    <tr>\n",
       "      <th>2010</th>\n",
       "      <td>4840</td>\n",
       "      <td>123</td>\n",
       "      <td>4963</td>\n",
       "    </tr>\n",
       "    <tr>\n",
       "      <th>2011</th>\n",
       "      <td>4972</td>\n",
       "      <td>110</td>\n",
       "      <td>5082</td>\n",
       "    </tr>\n",
       "    <tr>\n",
       "      <th>2012</th>\n",
       "      <td>5101</td>\n",
       "      <td>130</td>\n",
       "      <td>5231</td>\n",
       "    </tr>\n",
       "    <tr>\n",
       "      <th>2013</th>\n",
       "      <td>5215</td>\n",
       "      <td>105</td>\n",
       "      <td>5320</td>\n",
       "    </tr>\n",
       "    <tr>\n",
       "      <th>2014</th>\n",
       "      <td>4962</td>\n",
       "      <td>253</td>\n",
       "      <td>5215</td>\n",
       "    </tr>\n",
       "    <tr>\n",
       "      <th>2015</th>\n",
       "      <td>4799</td>\n",
       "      <td>162</td>\n",
       "      <td>4961</td>\n",
       "    </tr>\n",
       "    <tr>\n",
       "      <th>All</th>\n",
       "      <td>48168</td>\n",
       "      <td>1485</td>\n",
       "      <td>49653</td>\n",
       "    </tr>\n",
       "  </tbody>\n",
       "</table>\n",
       "</div>"
      ],
      "text/plain": [
       "STATUS       ACTIVE  TERMINATED    All\n",
       "STATUS_YEAR                           \n",
       "2006           4445         134   4579\n",
       "2007           4521         162   4683\n",
       "2008           4603         164   4767\n",
       "2009           4710         142   4852\n",
       "2010           4840         123   4963\n",
       "2011           4972         110   5082\n",
       "2012           5101         130   5231\n",
       "2013           5215         105   5320\n",
       "2014           4962         253   5215\n",
       "2015           4799         162   4961\n",
       "All           48168        1485  49653"
      ]
     },
     "execution_count": 15,
     "metadata": {},
     "output_type": "execute_result"
    }
   ],
   "source": [
    "#df.groupby(['STATUS_YEAR', 'STATUS'])['STATUS'].aggregate('count').unstack()\n",
    "df.pivot_table(index=['STATUS_YEAR'], columns=['STATUS'], values='EmployeeID', aggfunc='count', margins=True)"
   ]
  },
  {
   "cell_type": "code",
   "execution_count": 150,
   "metadata": {},
   "outputs": [],
   "source": [
    "# Step 2: Based on the pivot_table, find total number of employees each year"
   ]
  },
  {
   "cell_type": "code",
   "execution_count": 19,
   "metadata": {},
   "outputs": [
    {
     "name": "stdout",
     "output_type": "stream",
     "text": [
      "STATUS       ACTIVE  TERMINATED  TOTAL\n",
      "STATUS_YEAR                           \n",
      "2006           4445         134   4579\n",
      "2007           4521         162   4683\n",
      "2008           4603         164   4767\n",
      "2009           4710         142   4852\n",
      "2010           4840         123   4963\n",
      "2011           4972         110   5082\n",
      "2012           5101         130   5231\n",
      "2013           5215         105   5320\n",
      "2014           4962         253   5215\n",
      "2015           4799         162   4961\n"
     ]
    }
   ],
   "source": [
    "df2 = df.groupby(['STATUS_YEAR', 'STATUS'])['STATUS'].aggregate('count').unstack()\n",
    "df2['TOTAL'] = df2.ACTIVE + df2.TERMINATED\n",
    "print(df2)"
   ]
  },
  {
   "cell_type": "code",
   "execution_count": 20,
   "metadata": {},
   "outputs": [],
   "source": [
    "# Step 3: Now compute the percentage"
   ]
  },
  {
   "cell_type": "code",
   "execution_count": 21,
   "metadata": {},
   "outputs": [
    {
     "name": "stdout",
     "output_type": "stream",
     "text": [
      "STATUS       ACTIVE  TERMINATED  TOTAL  Percent_Terminated\n",
      "STATUS_YEAR                                               \n",
      "2006           4445         134   4579            2.926403\n",
      "2007           4521         162   4683            3.459321\n",
      "2008           4603         164   4767            3.440319\n",
      "2009           4710         142   4852            2.926628\n",
      "2010           4840         123   4963            2.478340\n",
      "2011           4972         110   5082            2.164502\n",
      "2012           5101         130   5231            2.485184\n",
      "2013           5215         105   5320            1.973684\n",
      "2014           4962         253   5215            4.851390\n",
      "2015           4799         162   4961            3.265471\n"
     ]
    }
   ],
   "source": [
    "df2['Percent_Terminated'] = df2.TERMINATED / df2.TOTAL * 100\n",
    "print(df2)"
   ]
  },
  {
   "cell_type": "code",
   "execution_count": 22,
   "metadata": {},
   "outputs": [],
   "source": [
    "# Step 4: Invoke a function to compute average on the calculated percentage."
   ]
  },
  {
   "cell_type": "code",
   "execution_count": 23,
   "metadata": {},
   "outputs": [
    {
     "name": "stdout",
     "output_type": "stream",
     "text": [
      "The average pergentage of terminated employees each year is: 2.997124260410164\n"
     ]
    }
   ],
   "source": [
    "print('The average pergentage of terminated employees each year is: ' + \n",
    "      str(df2['Percent_Terminated'].mean()))"
   ]
  },
  {
   "cell_type": "markdown",
   "metadata": {},
   "source": [
    "#### c.(5 pts) In addition to the proportion of terminated employees, the company wants to know more about different types of termination. Give a stacked bar chart of terminates, where x-axis is status year, y-axis is number of terminated employees, and different colors in a bar show different termination reasons (‘termreason desc’ field in the data). What do you observe in this plot?"
   ]
  },
  {
   "cell_type": "code",
   "execution_count": 156,
   "metadata": {},
   "outputs": [],
   "source": [
    "# Step 1: Filter dataframe for the relevant status for this question"
   ]
  },
  {
   "cell_type": "code",
   "execution_count": 160,
   "metadata": {},
   "outputs": [
    {
     "name": "stdout",
     "output_type": "stream",
     "text": [
      "       STATUS_YEAR termreason_desc      STATUS\n",
      "48168         2010      Retirement  TERMINATED\n",
      "48169         2011      Retirement  TERMINATED\n",
      "48170         2006      Retirement  TERMINATED\n",
      "48171         2011      Retirement  TERMINATED\n",
      "48172         2012      Retirement  TERMINATED\n",
      "...            ...             ...         ...\n",
      "49648         2013      Resignaton  TERMINATED\n",
      "49649         2014      Retirement  TERMINATED\n",
      "49650         2012      Retirement  TERMINATED\n",
      "49651         2013      Resignaton  TERMINATED\n",
      "49652         2007      Retirement  TERMINATED\n",
      "\n",
      "[1485 rows x 3 columns]\n"
     ]
    }
   ],
   "source": [
    "df_filtered = df.filter(['STATUS_YEAR', 'termreason_desc', 'STATUS'])\n",
    "term_mask = df['STATUS'] == 'TERMINATED'\n",
    "df_filtered = df_filtered[term_mask]\n",
    "print(df_filtered)"
   ]
  },
  {
   "cell_type": "code",
   "execution_count": 158,
   "metadata": {},
   "outputs": [],
   "source": [
    "# Step 2: Similar to part (b) create pivot table on column termreason_desc"
   ]
  },
  {
   "cell_type": "code",
   "execution_count": 173,
   "metadata": {},
   "outputs": [
    {
     "name": "stdout",
     "output_type": "stream",
     "text": [
      "                STATUS                      \n",
      "termreason_desc Layoff Resignaton Retirement\n",
      "STATUS_YEAR                                 \n",
      "2006               NaN       12.0      122.0\n",
      "2007               NaN       25.0      137.0\n",
      "2008               NaN       26.0      138.0\n",
      "2009               NaN       18.0      124.0\n",
      "2010               NaN       29.0       94.0\n",
      "2011               NaN       69.0       41.0\n",
      "2012               NaN       76.0       54.0\n",
      "2013               NaN       49.0       56.0\n",
      "2014             142.0       55.0       56.0\n",
      "2015              73.0       26.0       63.0\n"
     ]
    }
   ],
   "source": [
    "df_aggregate_term = df_filtered.groupby(['STATUS_YEAR', 'termreason_desc']).aggregate(\n",
    "    'count').unstack()\n",
    "print(df_aggregate_term)"
   ]
  },
  {
   "cell_type": "code",
   "execution_count": 57,
   "metadata": {
    "collapsed": true,
    "jupyter": {
     "outputs_hidden": true
    }
   },
   "outputs": [],
   "source": [
    "# Step 3: Plot stacked bar chart using pandas plot bar function\n"
   ]
  },
  {
   "cell_type": "code",
   "execution_count": 175,
   "metadata": {},
   "outputs": [
    {
     "data": {
      "text/plain": [
       "[]"
      ]
     },
     "execution_count": 175,
     "metadata": {},
     "output_type": "execute_result"
    },
    {
     "data": {
      "image/png": "[encoded data removed]",
      "text/plain": [
       "<Figure size 432x288 with 1 Axes>"
      ]
     },
     "metadata": {
      "needs_background": "light"
     },
     "output_type": "display_data"
    }
   ],
   "source": [
    "ax = df_aggregate_term.plot.bar(stacked=True)\n",
    "ax.plot()"
   ]
  },
  {
   "cell_type": "markdown",
   "metadata": {},
   "source": [
    "### ***For the first few years, the majority of terminated employees are retired. But after 2010, that shifts to resignations and then in 2014 the majority shifts a second time to layoffs***\n"
   ]
  },
  {
   "cell_type": "markdown",
   "metadata": {},
   "source": [
    "#### d. (3 pts) Does Age affect termination? Draw (2) Box-plots of Age for active and terminated employees separately. What does the box-plot tell you?"
   ]
  },
  {
   "cell_type": "code",
   "execution_count": 58,
   "metadata": {
    "collapsed": true,
    "jupyter": {
     "outputs_hidden": true
    }
   },
   "outputs": [],
   "source": [
    "# Step 1: Use pandas boxplot for this part"
   ]
  },
  {
   "cell_type": "code",
   "execution_count": 32,
   "metadata": {},
   "outputs": [
    {
     "data": {
      "text/plain": [
       "Text(0, 0.5, 'Age (in year)')"
      ]
     },
     "execution_count": 32,
     "metadata": {},
     "output_type": "execute_result"
    },
    {
     "data": {
      "text/plain": [
       "<Figure size 720x432 with 0 Axes>"
      ]
     },
     "metadata": {},
     "output_type": "display_data"
    },
    {
     "data": {
      "image/png": "[encoded data removed]",
      "text/plain": [
       "<Figure size 432x288 with 1 Axes>"
      ]
     },
     "metadata": {
      "needs_background": "light"
     },
     "output_type": "display_data"
    }
   ],
   "source": [
    "plt.figure(figsize=(10, 6))\n",
    "df.boxplot(column=['age'], by='STATUS')\n",
    "plt.ylabel('Age (in year)')"
   ]
  },
  {
   "cell_type": "markdown",
   "metadata": {},
   "source": [
    "#### The box plots show that the terminated employees have a higher mean age.  It also indicates that the interquartile range is larger for terminated employees and the 25th percentile is higher for terminated employees as well."
   ]
  },
  {
   "cell_type": "code",
   "execution_count": null,
   "metadata": {},
   "outputs": [],
   "source": []
  }
 ],
 "metadata": {
  "kernelspec": {
   "display_name": "Python 3 (ipykernel)",
   "language": "python",
   "name": "python3"
  },
  "language_info": {
   "codemirror_mode": {
    "name": "ipython",
    "version": 3
   },
   "file_extension": ".py",
   "mimetype": "text/x-python",
   "name": "python",
   "nbconvert_exporter": "python",
   "pygments_lexer": "ipython3",
   "version": "3.9.13"
  }
 },
 "nbformat": 4,
 "nbformat_minor": 4
}
